{
 "cells": [
  {
   "cell_type": "code",
   "execution_count": 1,
   "metadata": {},
   "outputs": [],
   "source": [
    "from data_helper import timeserie2image, read_files\n",
    "import numpy as np\n",
    "import pandas as pd\n",
    "from dataset import UCIHARDataset\n",
    "from transform import Transform\n",
    "import torch\n",
    "from barlowtwins import BarlowTwins\n",
    "from lightning.pytorch.callbacks import EarlyStopping, ModelCheckpoint\n",
    "from lightning.pytorch.trainer import Trainer\n",
    "import datetime\n",
    "\n",
    "\n",
    "np.random.seed(42)"
   ]
  },
  {
   "cell_type": "code",
   "execution_count": 2,
   "metadata": {},
   "outputs": [],
   "source": [
    "train_data, train_y, validation_data, validation_y, test_data, test_y = read_files()"
   ]
  },
  {
   "cell_type": "code",
   "execution_count": 3,
   "metadata": {},
   "outputs": [
    {
     "data": {
      "text/html": [
       "<div>\n",
       "<style scoped>\n",
       "    .dataframe tbody tr th:only-of-type {\n",
       "        vertical-align: middle;\n",
       "    }\n",
       "\n",
       "    .dataframe tbody tr th {\n",
       "        vertical-align: top;\n",
       "    }\n",
       "\n",
       "    .dataframe thead th {\n",
       "        text-align: right;\n",
       "    }\n",
       "</style>\n",
       "<table border=\"1\" class=\"dataframe\">\n",
       "  <thead>\n",
       "    <tr style=\"text-align: right;\">\n",
       "      <th></th>\n",
       "      <th>0</th>\n",
       "    </tr>\n",
       "  </thead>\n",
       "  <tbody>\n",
       "    <tr>\n",
       "      <th>0</th>\n",
       "      <td>5</td>\n",
       "    </tr>\n",
       "    <tr>\n",
       "      <th>1</th>\n",
       "      <td>5</td>\n",
       "    </tr>\n",
       "    <tr>\n",
       "      <th>2</th>\n",
       "      <td>5</td>\n",
       "    </tr>\n",
       "    <tr>\n",
       "      <th>3</th>\n",
       "      <td>5</td>\n",
       "    </tr>\n",
       "    <tr>\n",
       "      <th>4</th>\n",
       "      <td>5</td>\n",
       "    </tr>\n",
       "    <tr>\n",
       "      <th>...</th>\n",
       "      <td>...</td>\n",
       "    </tr>\n",
       "    <tr>\n",
       "      <th>6238</th>\n",
       "      <td>2</td>\n",
       "    </tr>\n",
       "    <tr>\n",
       "      <th>6239</th>\n",
       "      <td>2</td>\n",
       "    </tr>\n",
       "    <tr>\n",
       "      <th>6240</th>\n",
       "      <td>2</td>\n",
       "    </tr>\n",
       "    <tr>\n",
       "      <th>6241</th>\n",
       "      <td>2</td>\n",
       "    </tr>\n",
       "    <tr>\n",
       "      <th>6242</th>\n",
       "      <td>2</td>\n",
       "    </tr>\n",
       "  </tbody>\n",
       "</table>\n",
       "<p>2442 rows × 1 columns</p>\n",
       "</div>"
      ],
      "text/plain": [
       "      0\n",
       "0     5\n",
       "1     5\n",
       "2     5\n",
       "3     5\n",
       "4     5\n",
       "...  ..\n",
       "6238  2\n",
       "6239  2\n",
       "6240  2\n",
       "6241  2\n",
       "6242  2\n",
       "\n",
       "[2442 rows x 1 columns]"
      ]
     },
     "execution_count": 3,
     "metadata": {},
     "output_type": "execute_result"
    }
   ],
   "source": [
    "train_y"
   ]
  },
  {
   "cell_type": "code",
   "execution_count": 4,
   "metadata": {},
   "outputs": [
    {
     "data": {
      "text/html": [
       "<div>\n",
       "<style scoped>\n",
       "    .dataframe tbody tr th:only-of-type {\n",
       "        vertical-align: middle;\n",
       "    }\n",
       "\n",
       "    .dataframe tbody tr th {\n",
       "        vertical-align: top;\n",
       "    }\n",
       "\n",
       "    .dataframe thead th {\n",
       "        text-align: right;\n",
       "    }\n",
       "</style>\n",
       "<table border=\"1\" class=\"dataframe\">\n",
       "  <thead>\n",
       "    <tr style=\"text-align: right;\">\n",
       "      <th></th>\n",
       "      <th>0</th>\n",
       "    </tr>\n",
       "  </thead>\n",
       "  <tbody>\n",
       "    <tr>\n",
       "      <th>688</th>\n",
       "      <td>5</td>\n",
       "    </tr>\n",
       "    <tr>\n",
       "      <th>689</th>\n",
       "      <td>5</td>\n",
       "    </tr>\n",
       "    <tr>\n",
       "      <th>690</th>\n",
       "      <td>5</td>\n",
       "    </tr>\n",
       "    <tr>\n",
       "      <th>691</th>\n",
       "      <td>5</td>\n",
       "    </tr>\n",
       "    <tr>\n",
       "      <th>692</th>\n",
       "      <td>5</td>\n",
       "    </tr>\n",
       "    <tr>\n",
       "      <th>...</th>\n",
       "      <td>...</td>\n",
       "    </tr>\n",
       "    <tr>\n",
       "      <th>7347</th>\n",
       "      <td>2</td>\n",
       "    </tr>\n",
       "    <tr>\n",
       "      <th>7348</th>\n",
       "      <td>2</td>\n",
       "    </tr>\n",
       "    <tr>\n",
       "      <th>7349</th>\n",
       "      <td>2</td>\n",
       "    </tr>\n",
       "    <tr>\n",
       "      <th>7350</th>\n",
       "      <td>2</td>\n",
       "    </tr>\n",
       "    <tr>\n",
       "      <th>7351</th>\n",
       "      <td>2</td>\n",
       "    </tr>\n",
       "  </tbody>\n",
       "</table>\n",
       "<p>4910 rows × 1 columns</p>\n",
       "</div>"
      ],
      "text/plain": [
       "      0\n",
       "688   5\n",
       "689   5\n",
       "690   5\n",
       "691   5\n",
       "692   5\n",
       "...  ..\n",
       "7347  2\n",
       "7348  2\n",
       "7349  2\n",
       "7350  2\n",
       "7351  2\n",
       "\n",
       "[4910 rows x 1 columns]"
      ]
     },
     "execution_count": 4,
     "metadata": {},
     "output_type": "execute_result"
    }
   ],
   "source": [
    "validation_y"
   ]
  },
  {
   "cell_type": "code",
   "execution_count": 5,
   "metadata": {},
   "outputs": [],
   "source": [
    "train_x = []\n",
    "for i in range(train_data.shape[0]):\n",
    "    signal = train_data.iloc[i,:].values.reshape(9, -1)\n",
    "    image = timeserie2image(signal)\n",
    "    image = np.array([image, image, image])\n",
    "    train_x.append(image)\n",
    "train_x = torch.tensor(np.array(train_x))\n",
    "\n",
    "validation_x = []\n",
    "for i in range(validation_data.shape[0]):\n",
    "    signal = validation_data.iloc[i,:].values.reshape(9, -1)\n",
    "    image = timeserie2image(signal)\n",
    "    image = np.array([image, image, image])\n",
    "    validation_x.append(image)\n",
    "validation_x = torch.tensor(np.array(validation_x))\n",
    "\n",
    "test_x = []\n",
    "for i in range(test_data.shape[0]):\n",
    "    signal = test_data.iloc[i,:].values.reshape(9, -1)\n",
    "    image = timeserie2image(signal)\n",
    "    image = np.array([image, image, image])\n",
    "    test_x.append(image)\n",
    "test_x = torch.tensor(np.array(test_x))"
   ]
  },
  {
   "cell_type": "code",
   "execution_count": 6,
   "metadata": {},
   "outputs": [],
   "source": [
    "train_dataset = UCIHARDataset(train_x, train_y, transform=Transform())\n",
    "val_dataset = UCIHARDataset(validation_x, validation_y, transform=Transform())\n",
    "test_dataset = UCIHARDataset(test_x, test_y, transform=Transform())"
   ]
  },
  {
   "cell_type": "code",
   "execution_count": 7,
   "metadata": {},
   "outputs": [],
   "source": [
    "train_dataloader = torch.utils.data.DataLoader(train_dataset, batch_size=256, shuffle=True)\n",
    "val_dataloader = torch.utils.data.DataLoader(val_dataset, batch_size=256, shuffle=False)\n",
    "test_dataloader = torch.utils.data.DataLoader(test_dataset, batch_size=256, shuffle=False)"
   ]
  },
  {
   "cell_type": "code",
   "execution_count": 8,
   "metadata": {},
   "outputs": [],
   "source": [
    "bt_model = BarlowTwins()\n",
    "current_date = datetime.datetime.now().strftime(\"%Y-%m-%d_%H-%M-%S\")"
   ]
  },
  {
   "cell_type": "code",
   "execution_count": 9,
   "metadata": {},
   "outputs": [
    {
     "name": "stderr",
     "output_type": "stream",
     "text": [
      "GPU available: True (cuda), used: True\n",
      "TPU available: False, using: 0 TPU cores\n",
      "IPU available: False, using: 0 IPUs\n",
      "HPU available: False, using: 0 HPUs\n",
      "C:\\Users\\dpalo\\AppData\\Local\\Packages\\PythonSoftwareFoundation.Python.3.11_qbz5n2kfra8p0\\LocalCache\\local-packages\\Python311\\site-packages\\lightning\\pytorch\\trainer\\connectors\\logger_connector\\logger_connector.py:75: Starting from v1.9.0, `tensorboardX` has been removed as a dependency of the `lightning.pytorch` package, due to potential conflicts with other packages in the ML ecosystem. For this reason, `logger=True` will use `CSVLogger` as the default logger, unless the `tensorboard` or `tensorboardX` packages are found. Please `pip install lightning[extra]` or one of them to enable TensorBoard support by default\n",
      "`Trainer(limit_train_batches=1.0)` was configured so 100% of the batches per epoch will be used..\n",
      "LOCAL_RANK: 0 - CUDA_VISIBLE_DEVICES: [0]\n",
      "\n",
      "  | Name            | Type                      | Params\n",
      "--------------------------------------------------------------\n",
      "0 | backbone        | Sequential                | 11.2 M\n",
      "1 | projection_head | BarlowTwinsProjectionHead | 9.4 M \n",
      "2 | criterion       | BarlowTwinsLoss           | 0     \n",
      "--------------------------------------------------------------\n",
      "20.6 M    Trainable params\n",
      "0         Non-trainable params\n",
      "20.6 M    Total params\n",
      "82.496    Total estimated model params size (MB)\n"
     ]
    },
    {
     "data": {
      "application/vnd.jupyter.widget-view+json": {
       "model_id": "0c143b734d034c9a8e7defaec261574a",
       "version_major": 2,
       "version_minor": 0
      },
      "text/plain": [
       "Sanity Checking: |          | 0/? [00:00<?, ?it/s]"
      ]
     },
     "metadata": {},
     "output_type": "display_data"
    },
    {
     "name": "stderr",
     "output_type": "stream",
     "text": [
      "C:\\Users\\dpalo\\AppData\\Local\\Packages\\PythonSoftwareFoundation.Python.3.11_qbz5n2kfra8p0\\LocalCache\\local-packages\\Python311\\site-packages\\lightning\\pytorch\\trainer\\connectors\\data_connector.py:441: The 'val_dataloader' does not have many workers which may be a bottleneck. Consider increasing the value of the `num_workers` argument` to `num_workers=7` in the `DataLoader` to improve performance.\n",
      "C:\\Users\\dpalo\\AppData\\Local\\Packages\\PythonSoftwareFoundation.Python.3.11_qbz5n2kfra8p0\\LocalCache\\local-packages\\Python311\\site-packages\\lightning\\pytorch\\trainer\\connectors\\data_connector.py:441: The 'train_dataloader' does not have many workers which may be a bottleneck. Consider increasing the value of the `num_workers` argument` to `num_workers=7` in the `DataLoader` to improve performance.\n",
      "C:\\Users\\dpalo\\AppData\\Local\\Packages\\PythonSoftwareFoundation.Python.3.11_qbz5n2kfra8p0\\LocalCache\\local-packages\\Python311\\site-packages\\lightning\\pytorch\\loops\\fit_loop.py:298: The number of training batches (10) is smaller than the logging interval Trainer(log_every_n_steps=50). Set a lower value for log_every_n_steps if you want to see logs for the training epoch.\n"
     ]
    },
    {
     "data": {
      "application/vnd.jupyter.widget-view+json": {
       "model_id": "6f6bfff2a2a64a92bfbe5b7c31ec47fb",
       "version_major": 2,
       "version_minor": 0
      },
      "text/plain": [
       "Training: |          | 0/? [00:00<?, ?it/s]"
      ]
     },
     "metadata": {},
     "output_type": "display_data"
    },
    {
     "name": "stderr",
     "output_type": "stream",
     "text": [
      "C:\\Users\\dpalo\\AppData\\Local\\Packages\\PythonSoftwareFoundation.Python.3.11_qbz5n2kfra8p0\\LocalCache\\local-packages\\Python311\\site-packages\\lightning\\pytorch\\trainer\\call.py:54: Detected KeyboardInterrupt, attempting graceful shutdown...\n"
     ]
    }
   ],
   "source": [
    "early_stopping = EarlyStopping('val_loss', patience=100, verbose=True, mode='min')\n",
    "checkpoint_callback = ModelCheckpoint(\n",
    "    monitor='val_loss',  # Monitor validation loss\n",
    "    mode='min',          # 'min' mode means the checkpoint will be saved when the monitored quantity decreases\n",
    "    save_top_k=1,        # Save the best model\n",
    "    dirpath=current_date,  # Directory to save the checkpoints\n",
    "    filename='model',  # Filename format\n",
    ")\n",
    "trainer = Trainer(limit_train_batches=1.0, max_epochs=100000, callbacks=[early_stopping, checkpoint_callback], accelerator=\"gpu\", devices=\"auto\")\n",
    "trainer.fit(model=bt_model, train_dataloaders=train_dataloader, val_dataloaders=val_dataloader)"
   ]
  },
  {
   "cell_type": "code",
   "execution_count": null,
   "metadata": {},
   "outputs": [],
   "source": [
    "\n",
    "base_dir = 'data/UCIHAR/dataset/UCI HAR Dataset'\n",
    "# Training data\n",
    "# Train users\n",
    "train_users = pd.read_csv(f'{base_dir}/train/subject_train.txt', header=None)\n",
    "# Train accelerometer data\n",
    "train_acc_x = pd.read_csv(f'{base_dir}/train/Inertial Signals/body_acc_x_train.txt', delim_whitespace=True, header=None)\n",
    "train_acc_y = pd.read_csv(f'{base_dir}/train/Inertial Signals/body_acc_y_train.txt', delim_whitespace=True, header=None)\n",
    "train_acc_z = pd.read_csv(f'{base_dir}/train/Inertial Signals/body_acc_z_train.txt', delim_whitespace=True, header=None)\n",
    "# Train gyroscope data\n",
    "train_gyro_x = pd.read_csv(f'{base_dir}/train/Inertial Signals/body_gyro_x_train.txt', delim_whitespace=True, header=None)\n",
    "train_gyro_y = pd.read_csv(f'{base_dir}/train/Inertial Signals/body_gyro_y_train.txt', delim_whitespace=True, header=None)\n",
    "train_gyro_z = pd.read_csv(f'{base_dir}/train/Inertial Signals/body_gyro_z_train.txt', delim_whitespace=True, header=None)\n",
    "# Train total acc data\n",
    "train_total_acc_x = pd.read_csv(f'{base_dir}/train/Inertial Signals/total_acc_x_train.txt', delim_whitespace=True, header=None)\n",
    "train_total_acc_y = pd.read_csv(f'{base_dir}/train/Inertial Signals/total_acc_y_train.txt', delim_whitespace=True, header=None)\n",
    "train_total_acc_z = pd.read_csv(f'{base_dir}/train/Inertial Signals/total_acc_z_train.txt', delim_whitespace=True, header=None)\n",
    "\n",
    "# Train labels\n",
    "train_y = pd.read_csv(f'{base_dir}/train/y_train.txt', header=None)\n",
    "\n",
    "# Test data\n",
    "# Test users\n",
    "test_users = pd.read_csv(f'{base_dir}/test/subject_test.txt', header=None)\n",
    "# Test accelerometer data\n",
    "test_acc_x = pd.read_csv(f'{base_dir}/test/Inertial Signals/body_acc_x_test.txt', delim_whitespace=True, header=None)\n",
    "test_acc_y = pd.read_csv(f'{base_dir}/test/Inertial Signals/body_acc_y_test.txt', delim_whitespace=True, header=None)\n",
    "test_acc_z = pd.read_csv(f'{base_dir}/test/Inertial Signals/body_acc_z_test.txt', delim_whitespace=True, header=None)\n",
    "# Test gyroscope data\n",
    "test_gyro_x = pd.read_csv(f'{base_dir}/test/Inertial Signals/body_gyro_x_test.txt', delim_whitespace=True, header=None)\n",
    "test_gyro_y = pd.read_csv(f'{base_dir}/test/Inertial Signals/body_gyro_y_test.txt', delim_whitespace=True, header=None)\n",
    "test_gyro_z = pd.read_csv(f'{base_dir}/test/Inertial Signals/body_gyro_z_test.txt', delim_whitespace=True, header=None)\n",
    "# Test total acc data\n",
    "test_total_acc_x = pd.read_csv(f'{base_dir}/test/Inertial Signals/total_acc_x_test.txt', delim_whitespace=True, header=None)\n",
    "test_total_acc_y = pd.read_csv(f'{base_dir}/test/Inertial Signals/total_acc_y_test.txt', delim_whitespace=True, header=None)\n",
    "test_total_acc_z = pd.read_csv(f'{base_dir}/test/Inertial Signals/total_acc_z_test.txt', delim_whitespace=True, header=None)\n",
    "# Test labels\n",
    "test_y = pd.read_csv(f'{base_dir}/test/y_test.txt', header=None)"
   ]
  },
  {
   "cell_type": "code",
   "execution_count": null,
   "metadata": {},
   "outputs": [],
   "source": [
    "train_data = pd.concat([train_users, train_gyro_x, train_gyro_y, train_gyro_z, train_total_acc_x, train_total_acc_y, train_total_acc_z, train_acc_x, train_acc_y, train_acc_z], axis=1)\n",
    "test_data = pd.concat([test_users, test_gyro_x, test_gyro_y, test_gyro_z, test_total_acc_x, test_total_acc_y, test_total_acc_z, test_acc_x, test_acc_y, test_acc_z], axis=1)"
   ]
  },
  {
   "cell_type": "code",
   "execution_count": null,
   "metadata": {},
   "outputs": [
    {
     "data": {
      "text/plain": [
       "((7352, 1), (2947, 1), (7352, 1153), (2947, 1153))"
      ]
     },
     "execution_count": 4,
     "metadata": {},
     "output_type": "execute_result"
    }
   ],
   "source": [
    "train_users.shape, test_users.shape, train_data.shape, test_data.shape"
   ]
  },
  {
   "cell_type": "code",
   "execution_count": null,
   "metadata": {},
   "outputs": [
    {
     "data": {
      "text/plain": [
       "(9, 68)"
      ]
     },
     "execution_count": 5,
     "metadata": {},
     "output_type": "execute_result"
    }
   ],
   "source": [
    "first_elem = train_data.iloc[0,1:]\n",
    "first_elem = first_elem.values.reshape(9, -1)\n",
    "first_elem[:,:68].shape"
   ]
  },
  {
   "cell_type": "code",
   "execution_count": null,
   "metadata": {},
   "outputs": [
    {
     "name": "stdout",
     "output_type": "stream",
     "text": [
      "[ 1 27 25  3 15  8 19] [ 5  6  7 11 14 16 17 21 22 23 26 28 29 30]\n"
     ]
    }
   ],
   "source": [
    "users_for_train = np.random.choice(train_users.iloc[:,0].unique(), 7, replace=False)\n",
    "users_for_validation = np.setdiff1d(train_users.iloc[:,0].unique(), users_for_train)\n",
    "print(users_for_train, users_for_validation)"
   ]
  },
  {
   "cell_type": "code",
   "execution_count": null,
   "metadata": {},
   "outputs": [
    {
     "name": "stderr",
     "output_type": "stream",
     "text": [
      "C:\\Users\\dpalo\\AppData\\Local\\Temp\\ipykernel_26204\\3781707170.py:2: UserWarning: Boolean Series key will be reindexed to match DataFrame index.\n",
      "  validation_y = train_y[train_data.iloc[:,0].isin(users_for_validation)]\n"
     ]
    }
   ],
   "source": [
    "train_y = train_y[train_data.iloc[:,0].isin(users_for_train)]\n",
    "validation_y = train_y[train_data.iloc[:,0].isin(users_for_validation)]\n",
    "\n",
    "validation_data = train_data[train_data.iloc[:,0].isin(users_for_validation)].iloc[:,1:]\n",
    "train_data = train_data[train_data.iloc[:,0].isin(users_for_train)].iloc[:,1:]\n",
    "test_data = test_data.iloc[:,1:]"
   ]
  },
  {
   "cell_type": "code",
   "execution_count": null,
   "metadata": {},
   "outputs": [],
   "source": [
    "train_x = []\n",
    "for i in range(train_data.shape[0]):\n",
    "    signal = train_data.iloc[i,:].values.reshape(9, -1)\n",
    "    image = timeserie2image(signal)\n",
    "    image = np.array([image, image, image])\n",
    "    train_x.append(image)\n",
    "train_x = torch.tensor(np.array(train_x))\n",
    "\n",
    "validation_x = []\n",
    "for i in range(validation_data.shape[0]):\n",
    "    signal = validation_data.iloc[i,:].values.reshape(9, -1)\n",
    "    image = timeserie2image(signal)\n",
    "    image = np.array([image, image, image])\n",
    "    validation_x.append(image)\n",
    "validation_x = torch.tensor(np.array(validation_x))\n",
    "\n",
    "test_x = []\n",
    "for i in range(test_data.shape[0]):\n",
    "    signal = test_data.iloc[i,:].values.reshape(9, -1)\n",
    "    image = timeserie2image(signal)\n",
    "    image = np.array([image, image, image])\n",
    "    test_x.append(image)\n",
    "test_x = torch.tensor(np.array(test_x))"
   ]
  },
  {
   "cell_type": "code",
   "execution_count": null,
   "metadata": {},
   "outputs": [
    {
     "data": {
      "text/plain": [
       "(torch.Size([2442, 3, 36, 128]),\n",
       " torch.Size([4910, 3, 36, 128]),\n",
       " torch.Size([2947, 3, 36, 128]))"
      ]
     },
     "execution_count": 9,
     "metadata": {},
     "output_type": "execute_result"
    }
   ],
   "source": [
    "train_x.shape, validation_x.shape, test_x.shape"
   ]
  },
  {
   "cell_type": "code",
   "execution_count": null,
   "metadata": {},
   "outputs": [
    {
     "name": "stdout",
     "output_type": "stream",
     "text": [
      "SAMPLE SHAPE torch.Size([3, 36, 128])\n"
     ]
    }
   ],
   "source": [
    "train_dataset = UCIHARDataset(train_x, train_y, transform=Transform())\n",
    "val_dataset = UCIHARDataset(validation_x, validation_y, transform=Transform())\n",
    "test_dataset = UCIHARDataset(test_x, test_y, transform=Transform())\n",
    "nextval = next(iter(train_dataset))"
   ]
  },
  {
   "cell_type": "code",
   "execution_count": null,
   "metadata": {},
   "outputs": [
    {
     "data": {
      "text/plain": [
       "5"
      ]
     },
     "execution_count": 11,
     "metadata": {},
     "output_type": "execute_result"
    }
   ],
   "source": [
    "train_y.iloc[0,0]"
   ]
  },
  {
   "cell_type": "code",
   "execution_count": null,
   "metadata": {},
   "outputs": [
    {
     "data": {
      "text/plain": [
       "(torch.Size([3, 224, 224]), torch.Size([3, 224, 224]), 5)"
      ]
     },
     "execution_count": 12,
     "metadata": {},
     "output_type": "execute_result"
    }
   ],
   "source": [
    "nextval[0].shape, nextval[1].shape, nextval[2]"
   ]
  },
  {
   "cell_type": "code",
   "execution_count": null,
   "metadata": {},
   "outputs": [
    {
     "ename": "AssertionError",
     "evalue": "",
     "output_type": "error",
     "traceback": [
      "\u001b[1;31m---------------------------------------------------------------------------\u001b[0m",
      "\u001b[1;31mAssertionError\u001b[0m                            Traceback (most recent call last)",
      "Cell \u001b[1;32mIn[13], line 1\u001b[0m\n\u001b[1;32m----> 1\u001b[0m \u001b[38;5;28;01massert\u001b[39;00m \u001b[38;5;28;01mFalse\u001b[39;00m\n",
      "\u001b[1;31mAssertionError\u001b[0m: "
     ]
    }
   ],
   "source": [
    "assert False"
   ]
  },
  {
   "cell_type": "code",
   "execution_count": null,
   "metadata": {},
   "outputs": [
    {
     "name": "stdout",
     "output_type": "stream",
     "text": [
      "SAMPLE SHAPE torch.Size([3, 36, 128])\n",
      "torch.Size([3, 224, 224]) torch.Size([3, 224, 224]) 5\n",
      "SAMPLE SHAPE torch.Size([3, 36, 128])\n",
      "torch.Size([3, 224, 224]) torch.Size([3, 224, 224]) 5\n",
      "SAMPLE SHAPE torch.Size([3, 36, 128])\n",
      "torch.Size([3, 224, 224]) torch.Size([3, 224, 224]) 5\n",
      "SAMPLE SHAPE torch.Size([3, 36, 128])\n",
      "torch.Size([3, 224, 224]) torch.Size([3, 224, 224]) 5\n",
      "SAMPLE SHAPE torch.Size([3, 36, 128])\n",
      "torch.Size([3, 224, 224]) torch.Size([3, 224, 224]) 5\n",
      "SAMPLE SHAPE torch.Size([3, 36, 128])\n",
      "torch.Size([3, 224, 224]) torch.Size([3, 224, 224]) 5\n",
      "SAMPLE SHAPE torch.Size([3, 36, 128])\n",
      "torch.Size([3, 224, 224]) torch.Size([3, 224, 224]) 5\n",
      "SAMPLE SHAPE torch.Size([3, 36, 128])\n",
      "torch.Size([3, 224, 224]) torch.Size([3, 224, 224]) 5\n",
      "SAMPLE SHAPE torch.Size([3, 36, 128])\n",
      "torch.Size([3, 224, 224]) torch.Size([3, 224, 224]) 5\n",
      "SAMPLE SHAPE torch.Size([3, 36, 128])\n",
      "torch.Size([3, 224, 224]) torch.Size([3, 224, 224]) 5\n",
      "SAMPLE SHAPE torch.Size([3, 36, 128])\n",
      "torch.Size([3, 224, 224]) torch.Size([3, 224, 224]) 5\n",
      "SAMPLE SHAPE torch.Size([3, 36, 128])\n",
      "torch.Size([3, 224, 224]) torch.Size([3, 224, 224]) 5\n",
      "SAMPLE SHAPE torch.Size([3, 36, 128])\n",
      "torch.Size([3, 224, 224]) torch.Size([3, 224, 224]) 5\n",
      "SAMPLE SHAPE torch.Size([3, 36, 128])\n",
      "torch.Size([3, 224, 224]) torch.Size([3, 224, 224]) 5\n",
      "SAMPLE SHAPE torch.Size([3, 36, 128])\n",
      "torch.Size([3, 224, 224]) torch.Size([3, 224, 224]) 5\n",
      "SAMPLE SHAPE torch.Size([3, 36, 128])\n",
      "torch.Size([3, 224, 224]) torch.Size([3, 224, 224]) 5\n",
      "SAMPLE SHAPE torch.Size([3, 36, 128])\n",
      "torch.Size([3, 224, 224]) torch.Size([3, 224, 224]) 5\n",
      "SAMPLE SHAPE torch.Size([3, 36, 128])\n",
      "torch.Size([3, 224, 224]) torch.Size([3, 224, 224]) 5\n",
      "SAMPLE SHAPE torch.Size([3, 36, 128])\n",
      "torch.Size([3, 224, 224]) torch.Size([3, 224, 224]) 5\n",
      "SAMPLE SHAPE torch.Size([3, 36, 128])\n",
      "torch.Size([3, 224, 224]) torch.Size([3, 224, 224]) 5\n",
      "SAMPLE SHAPE torch.Size([3, 36, 128])\n",
      "torch.Size([3, 224, 224]) torch.Size([3, 224, 224]) 5\n",
      "SAMPLE SHAPE torch.Size([3, 36, 128])\n",
      "torch.Size([3, 224, 224]) torch.Size([3, 224, 224]) 5\n",
      "SAMPLE SHAPE torch.Size([3, 36, 128])\n",
      "torch.Size([3, 224, 224]) torch.Size([3, 224, 224]) 5\n",
      "SAMPLE SHAPE torch.Size([3, 36, 128])\n",
      "torch.Size([3, 224, 224]) torch.Size([3, 224, 224]) 5\n",
      "SAMPLE SHAPE torch.Size([3, 36, 128])\n",
      "torch.Size([3, 224, 224]) torch.Size([3, 224, 224]) 5\n",
      "SAMPLE SHAPE torch.Size([3, 36, 128])\n",
      "torch.Size([3, 224, 224]) torch.Size([3, 224, 224]) 5\n",
      "SAMPLE SHAPE torch.Size([3, 36, 128])\n",
      "torch.Size([3, 224, 224]) torch.Size([3, 224, 224]) 5\n",
      "SAMPLE SHAPE torch.Size([3, 36, 128])\n",
      "torch.Size([3, 224, 224]) torch.Size([3, 224, 224]) 4\n",
      "SAMPLE SHAPE torch.Size([3, 36, 128])\n",
      "torch.Size([3, 224, 224]) torch.Size([3, 224, 224]) 4\n",
      "SAMPLE SHAPE torch.Size([3, 36, 128])\n",
      "torch.Size([3, 224, 224]) torch.Size([3, 224, 224]) 4\n",
      "SAMPLE SHAPE torch.Size([3, 36, 128])\n",
      "torch.Size([3, 224, 224]) torch.Size([3, 224, 224]) 4\n",
      "SAMPLE SHAPE torch.Size([3, 36, 128])\n",
      "torch.Size([3, 224, 224]) torch.Size([3, 224, 224]) 4\n",
      "SAMPLE SHAPE torch.Size([3, 36, 128])\n",
      "torch.Size([3, 224, 224]) torch.Size([3, 224, 224]) 4\n",
      "SAMPLE SHAPE torch.Size([3, 36, 128])\n",
      "torch.Size([3, 224, 224]) torch.Size([3, 224, 224]) 4\n",
      "SAMPLE SHAPE torch.Size([3, 36, 128])\n",
      "torch.Size([3, 224, 224]) torch.Size([3, 224, 224]) 4\n",
      "SAMPLE SHAPE torch.Size([3, 36, 128])\n",
      "torch.Size([3, 224, 224]) torch.Size([3, 224, 224]) 4\n",
      "SAMPLE SHAPE torch.Size([3, 36, 128])\n",
      "torch.Size([3, 224, 224]) torch.Size([3, 224, 224]) 4\n",
      "SAMPLE SHAPE torch.Size([3, 36, 128])\n",
      "torch.Size([3, 224, 224]) torch.Size([3, 224, 224]) 4\n",
      "SAMPLE SHAPE torch.Size([3, 36, 128])\n",
      "torch.Size([3, 224, 224]) torch.Size([3, 224, 224]) 4\n",
      "SAMPLE SHAPE torch.Size([3, 36, 128])\n",
      "torch.Size([3, 224, 224]) torch.Size([3, 224, 224]) 4\n",
      "SAMPLE SHAPE torch.Size([3, 36, 128])\n",
      "torch.Size([3, 224, 224]) torch.Size([3, 224, 224]) 4\n",
      "SAMPLE SHAPE torch.Size([3, 36, 128])\n",
      "torch.Size([3, 224, 224]) torch.Size([3, 224, 224]) 4\n",
      "SAMPLE SHAPE torch.Size([3, 36, 128])\n",
      "torch.Size([3, 224, 224]) torch.Size([3, 224, 224]) 4\n",
      "SAMPLE SHAPE torch.Size([3, 36, 128])\n",
      "torch.Size([3, 224, 224]) torch.Size([3, 224, 224]) 4\n",
      "SAMPLE SHAPE torch.Size([3, 36, 128])\n",
      "torch.Size([3, 224, 224]) torch.Size([3, 224, 224]) 4\n",
      "SAMPLE SHAPE torch.Size([3, 36, 128])\n",
      "torch.Size([3, 224, 224]) torch.Size([3, 224, 224]) 4\n",
      "SAMPLE SHAPE torch.Size([3, 36, 128])\n",
      "torch.Size([3, 224, 224]) torch.Size([3, 224, 224]) 4\n",
      "SAMPLE SHAPE torch.Size([3, 36, 128])\n",
      "torch.Size([3, 224, 224]) torch.Size([3, 224, 224]) 4\n",
      "SAMPLE SHAPE torch.Size([3, 36, 128])\n",
      "torch.Size([3, 224, 224]) torch.Size([3, 224, 224]) 4\n",
      "SAMPLE SHAPE torch.Size([3, 36, 128])\n",
      "torch.Size([3, 224, 224]) torch.Size([3, 224, 224]) 4\n",
      "SAMPLE SHAPE torch.Size([3, 36, 128])\n",
      "torch.Size([3, 224, 224]) torch.Size([3, 224, 224]) 4\n",
      "SAMPLE SHAPE torch.Size([3, 36, 128])\n",
      "torch.Size([3, 224, 224]) torch.Size([3, 224, 224]) 6\n",
      "SAMPLE SHAPE torch.Size([3, 36, 128])\n",
      "torch.Size([3, 224, 224]) torch.Size([3, 224, 224]) 6\n",
      "SAMPLE SHAPE torch.Size([3, 36, 128])\n",
      "torch.Size([3, 224, 224]) torch.Size([3, 224, 224]) 6\n",
      "SAMPLE SHAPE torch.Size([3, 36, 128])\n",
      "torch.Size([3, 224, 224]) torch.Size([3, 224, 224]) 6\n",
      "SAMPLE SHAPE torch.Size([3, 36, 128])\n",
      "torch.Size([3, 224, 224]) torch.Size([3, 224, 224]) 6\n",
      "SAMPLE SHAPE torch.Size([3, 36, 128])\n",
      "torch.Size([3, 224, 224]) torch.Size([3, 224, 224]) 6\n",
      "SAMPLE SHAPE torch.Size([3, 36, 128])\n",
      "torch.Size([3, 224, 224]) torch.Size([3, 224, 224]) 6\n",
      "SAMPLE SHAPE torch.Size([3, 36, 128])\n",
      "torch.Size([3, 224, 224]) torch.Size([3, 224, 224]) 6\n",
      "SAMPLE SHAPE torch.Size([3, 36, 128])\n",
      "torch.Size([3, 224, 224]) torch.Size([3, 224, 224]) 6\n",
      "SAMPLE SHAPE torch.Size([3, 36, 128])\n",
      "torch.Size([3, 224, 224]) torch.Size([3, 224, 224]) 6\n",
      "SAMPLE SHAPE torch.Size([3, 36, 128])\n",
      "torch.Size([3, 224, 224]) torch.Size([3, 224, 224]) 6\n",
      "SAMPLE SHAPE torch.Size([3, 36, 128])\n",
      "torch.Size([3, 224, 224]) torch.Size([3, 224, 224]) 6\n",
      "SAMPLE SHAPE torch.Size([3, 36, 128])\n",
      "torch.Size([3, 224, 224]) torch.Size([3, 224, 224]) 6\n",
      "SAMPLE SHAPE torch.Size([3, 36, 128])\n",
      "torch.Size([3, 224, 224]) torch.Size([3, 224, 224]) 6\n",
      "SAMPLE SHAPE torch.Size([3, 36, 128])\n",
      "torch.Size([3, 224, 224]) torch.Size([3, 224, 224]) 6\n",
      "SAMPLE SHAPE torch.Size([3, 36, 128])\n",
      "torch.Size([3, 224, 224]) torch.Size([3, 224, 224]) 6\n",
      "SAMPLE SHAPE torch.Size([3, 36, 128])\n",
      "torch.Size([3, 224, 224]) torch.Size([3, 224, 224]) 6\n",
      "SAMPLE SHAPE torch.Size([3, 36, 128])\n",
      "torch.Size([3, 224, 224]) torch.Size([3, 224, 224]) 6\n",
      "SAMPLE SHAPE torch.Size([3, 36, 128])\n",
      "torch.Size([3, 224, 224]) torch.Size([3, 224, 224]) 6\n",
      "SAMPLE SHAPE torch.Size([3, 36, 128])\n",
      "torch.Size([3, 224, 224]) torch.Size([3, 224, 224]) 6\n",
      "SAMPLE SHAPE torch.Size([3, 36, 128])\n",
      "torch.Size([3, 224, 224]) torch.Size([3, 224, 224]) 6\n",
      "SAMPLE SHAPE torch.Size([3, 36, 128])\n",
      "torch.Size([3, 224, 224]) torch.Size([3, 224, 224]) 6\n",
      "SAMPLE SHAPE torch.Size([3, 36, 128])\n",
      "torch.Size([3, 224, 224]) torch.Size([3, 224, 224]) 6\n",
      "SAMPLE SHAPE torch.Size([3, 36, 128])\n",
      "torch.Size([3, 224, 224]) torch.Size([3, 224, 224]) 6\n",
      "SAMPLE SHAPE torch.Size([3, 36, 128])\n",
      "torch.Size([3, 224, 224]) torch.Size([3, 224, 224]) 6\n",
      "SAMPLE SHAPE torch.Size([3, 36, 128])\n",
      "torch.Size([3, 224, 224]) torch.Size([3, 224, 224]) 6\n",
      "SAMPLE SHAPE torch.Size([3, 36, 128])\n",
      "torch.Size([3, 224, 224]) torch.Size([3, 224, 224]) 6\n",
      "SAMPLE SHAPE torch.Size([3, 36, 128])\n",
      "torch.Size([3, 224, 224]) torch.Size([3, 224, 224]) 1\n",
      "SAMPLE SHAPE torch.Size([3, 36, 128])\n",
      "torch.Size([3, 224, 224]) torch.Size([3, 224, 224]) 1\n",
      "SAMPLE SHAPE torch.Size([3, 36, 128])\n",
      "torch.Size([3, 224, 224]) torch.Size([3, 224, 224]) 1\n",
      "SAMPLE SHAPE torch.Size([3, 36, 128])\n",
      "torch.Size([3, 224, 224]) torch.Size([3, 224, 224]) 1\n",
      "SAMPLE SHAPE torch.Size([3, 36, 128])\n",
      "torch.Size([3, 224, 224]) torch.Size([3, 224, 224]) 1\n",
      "SAMPLE SHAPE torch.Size([3, 36, 128])\n",
      "torch.Size([3, 224, 224]) torch.Size([3, 224, 224]) 1\n",
      "SAMPLE SHAPE torch.Size([3, 36, 128])\n",
      "torch.Size([3, 224, 224]) torch.Size([3, 224, 224]) 1\n",
      "SAMPLE SHAPE torch.Size([3, 36, 128])\n",
      "torch.Size([3, 224, 224]) torch.Size([3, 224, 224]) 1\n",
      "SAMPLE SHAPE torch.Size([3, 36, 128])\n",
      "torch.Size([3, 224, 224]) torch.Size([3, 224, 224]) 1\n",
      "SAMPLE SHAPE torch.Size([3, 36, 128])\n",
      "torch.Size([3, 224, 224]) torch.Size([3, 224, 224]) 1\n",
      "SAMPLE SHAPE torch.Size([3, 36, 128])\n",
      "torch.Size([3, 224, 224]) torch.Size([3, 224, 224]) 1\n",
      "SAMPLE SHAPE torch.Size([3, 36, 128])\n",
      "torch.Size([3, 224, 224]) torch.Size([3, 224, 224]) 1\n",
      "SAMPLE SHAPE torch.Size([3, 36, 128])\n",
      "torch.Size([3, 224, 224]) torch.Size([3, 224, 224]) 1\n",
      "SAMPLE SHAPE torch.Size([3, 36, 128])\n",
      "torch.Size([3, 224, 224]) torch.Size([3, 224, 224]) 1\n",
      "SAMPLE SHAPE torch.Size([3, 36, 128])\n",
      "torch.Size([3, 224, 224]) torch.Size([3, 224, 224]) 1\n",
      "SAMPLE SHAPE torch.Size([3, 36, 128])\n",
      "torch.Size([3, 224, 224]) torch.Size([3, 224, 224]) 1\n",
      "SAMPLE SHAPE torch.Size([3, 36, 128])\n",
      "torch.Size([3, 224, 224]) torch.Size([3, 224, 224]) 1\n",
      "SAMPLE SHAPE torch.Size([3, 36, 128])\n",
      "torch.Size([3, 224, 224]) torch.Size([3, 224, 224]) 1\n",
      "SAMPLE SHAPE torch.Size([3, 36, 128])\n",
      "torch.Size([3, 224, 224]) torch.Size([3, 224, 224]) 1\n",
      "SAMPLE SHAPE torch.Size([3, 36, 128])\n",
      "torch.Size([3, 224, 224]) torch.Size([3, 224, 224]) 1\n",
      "SAMPLE SHAPE torch.Size([3, 36, 128])\n",
      "torch.Size([3, 224, 224]) torch.Size([3, 224, 224]) 1\n",
      "SAMPLE SHAPE torch.Size([3, 36, 128])\n",
      "torch.Size([3, 224, 224]) torch.Size([3, 224, 224]) 1\n"
     ]
    }
   ],
   "source": [
    "iterd = iter(train_dataset)\n",
    "for i in range(100):\n",
    "    nextval = next(iterd)\n",
    "    print(nextval[0].shape, nextval[1].shape, nextval[2])"
   ]
  },
  {
   "cell_type": "code",
   "execution_count": null,
   "metadata": {},
   "outputs": [],
   "source": [
    "from torchvision.transforms import Compose, ToPILImage, ToTensor, Normalize\n",
    "# Transform tensor to 224x224\n",
    "transform = Compose([\n",
    "    ToPILImage(),\n",
    "    ToTensor(),\n",
    "    Normalize(mean=[0.5], std=[0.5])\n",
    "])\n",
    "\n",
    "# Resize to 224x224\n",
    "train_dataset.transform = transform\n",
    "\n"
   ]
  },
  {
   "cell_type": "code",
   "execution_count": null,
   "metadata": {},
   "outputs": [],
   "source": []
  },
  {
   "cell_type": "code",
   "execution_count": null,
   "metadata": {},
   "outputs": [
    {
     "name": "stdout",
     "output_type": "stream",
     "text": [
      "2433\n"
     ]
    },
    {
     "ename": "ValueError",
     "evalue": "cannot reshape array of size 1151 into shape (9,newaxis)",
     "output_type": "error",
     "traceback": [
      "\u001b[1;31m---------------------------------------------------------------------------\u001b[0m",
      "\u001b[1;31mValueError\u001b[0m                                Traceback (most recent call last)",
      "Cell \u001b[1;32mIn[14], line 18\u001b[0m\n\u001b[0;32m     16\u001b[0m \u001b[38;5;28mprint\u001b[39m(elem)\n\u001b[0;32m     17\u001b[0m data \u001b[38;5;241m=\u001b[39m train_data\u001b[38;5;241m.\u001b[39miloc[elem,\u001b[38;5;241m1\u001b[39m:]\n\u001b[1;32m---> 18\u001b[0m data \u001b[38;5;241m=\u001b[39m \u001b[43mdata\u001b[49m\u001b[38;5;241;43m.\u001b[39;49m\u001b[43mvalues\u001b[49m\u001b[38;5;241;43m.\u001b[39;49m\u001b[43mreshape\u001b[49m\u001b[43m(\u001b[49m\u001b[38;5;241;43m9\u001b[39;49m\u001b[43m,\u001b[49m\u001b[43m \u001b[49m\u001b[38;5;241;43m-\u001b[39;49m\u001b[38;5;241;43m1\u001b[39;49m\u001b[43m)\u001b[49m\n\u001b[0;32m     19\u001b[0m \u001b[38;5;28mprint\u001b[39m(y_val[train_y\u001b[38;5;241m.\u001b[39miloc[elem,\u001b[38;5;241m0\u001b[39m]])\n\u001b[0;32m     20\u001b[0m timeserie2image(data[:,:timestamps], \u001b[38;5;124mf\u001b[39m\u001b[38;5;124m'\u001b[39m\u001b[38;5;124mimages/\u001b[39m\u001b[38;5;132;01m{\u001b[39;00mtimestamps\u001b[38;5;132;01m}\u001b[39;00m\u001b[38;5;124m-\u001b[39m\u001b[38;5;132;01m{\u001b[39;00my_val[train_y\u001b[38;5;241m.\u001b[39miloc[elem,\u001b[38;5;241m0\u001b[39m]]\u001b[38;5;132;01m}\u001b[39;00m\u001b[38;5;124m-\u001b[39m\u001b[38;5;132;01m{\u001b[39;00melem\u001b[38;5;132;01m}\u001b[39;00m\u001b[38;5;124m.png\u001b[39m\u001b[38;5;124m'\u001b[39m)\n",
      "\u001b[1;31mValueError\u001b[0m: cannot reshape array of size 1151 into shape (9,newaxis)"
     ]
    }
   ],
   "source": [
    "import numpy as np\n",
    "import os\n",
    "\n",
    "y_val = {\n",
    "1: 'WALKING',\n",
    "2: 'WALKING_UPSTAIRS',\n",
    "3: 'WALKING_DOWNSTAIRS',\n",
    "4: 'SITTING',\n",
    "5: 'STANDING',\n",
    "6: 'LAYING'\n",
    "}\n",
    "timestamps = 128\n",
    "os.makedirs('images', exist_ok=True)\n",
    "random_elements = np.random.randint(0, train_data.shape[0], 10)\n",
    "for elem in random_elements:\n",
    "    print(elem)\n",
    "    data = train_data.iloc[elem,1:]\n",
    "    data = data.values.reshape(9, -1)\n",
    "    print(y_val[train_y.iloc[elem,0]])\n",
    "    timeserie2image(data[:,:timestamps], f'images/{timestamps}-{y_val[train_y.iloc[elem,0]]}-{elem}.png')"
   ]
  },
  {
   "cell_type": "code",
   "execution_count": null,
   "metadata": {},
   "outputs": [
    {
     "data": {
      "image/png": "[encoded data removed]",
      "text/plain": [
       "<Figure size 640x480 with 2 Axes>"
      ]
     },
     "metadata": {},
     "output_type": "display_data"
    },
    {
     "name": "stdout",
     "output_type": "stream",
     "text": [
      "(36, 68)\n"
     ]
    }
   ],
   "source": [
    "timeserie2image(first_elem[:,:68], 'test.png')"
   ]
  },
  {
   "cell_type": "code",
   "execution_count": null,
   "metadata": {},
   "outputs": [
    {
     "ename": "AssertionError",
     "evalue": "",
     "output_type": "error",
     "traceback": [
      "\u001b[1;31m---------------------------------------------------------------------------\u001b[0m",
      "\u001b[1;31mAssertionError\u001b[0m                            Traceback (most recent call last)",
      "Cell \u001b[1;32mIn[9], line 1\u001b[0m\n\u001b[1;32m----> 1\u001b[0m \u001b[38;5;28;01massert\u001b[39;00m \u001b[38;5;28;01mFalse\u001b[39;00m\n",
      "\u001b[1;31mAssertionError\u001b[0m: "
     ]
    }
   ],
   "source": [
    "assert False"
   ]
  },
  {
   "cell_type": "code",
   "execution_count": null,
   "metadata": {},
   "outputs": [
    {
     "name": "stdout",
     "output_type": "stream",
     "text": [
      "[ 1 27 25  3 15  8 19] [ 5  6  7 11 14 16 17 21 22 23 26 28 29 30]\n"
     ]
    }
   ],
   "source": [
    "\n"
   ]
  },
  {
   "cell_type": "code",
   "execution_count": null,
   "metadata": {},
   "outputs": [
    {
     "data": {
      "text/plain": [
       "Index(['1',   0,   1,   2,   3,   4,   5,   6,   7,   8,\n",
       "       ...\n",
       "       118, 119, 120, 121, 122, 123, 124, 125, 126, 127],\n",
       "      dtype='object', length=769)"
      ]
     },
     "execution_count": 46,
     "metadata": {},
     "output_type": "execute_result"
    }
   ],
   "source": [
    "train_data.columns"
   ]
  },
  {
   "cell_type": "code",
   "execution_count": null,
   "metadata": {},
   "outputs": [],
   "source": [
    "validation_data = train_data[train_data.iloc[:,0].isin(users_for_validation)]\n",
    "train_data = train_data[train_data.iloc[:,0].isin(users_for_train)]\n",
    "# Remove users from the data\n",
    "train_data = train_data.iloc[:,1:]\n",
    "validation_data = validation_data.iloc[:,1:]"
   ]
  },
  {
   "cell_type": "code",
   "execution_count": null,
   "metadata": {},
   "outputs": [],
   "source": [
    "# Filtering the labels\n",
    "train_y = train_y[train_y.iloc[:,0].isin(users_for_train)]\n",
    "validation_y = train_y[train_y.iloc[:,0].isin(users_for_validation)]"
   ]
  },
  {
   "cell_type": "code",
   "execution_count": null,
   "metadata": {},
   "outputs": [
    {
     "data": {
      "text/html": [
       "<div>\n",
       "<style scoped>\n",
       "    .dataframe tbody tr th:only-of-type {\n",
       "        vertical-align: middle;\n",
       "    }\n",
       "\n",
       "    .dataframe tbody tr th {\n",
       "        vertical-align: top;\n",
       "    }\n",
       "\n",
       "    .dataframe thead th {\n",
       "        text-align: right;\n",
       "    }\n",
       "</style>\n",
       "<table border=\"1\" class=\"dataframe\">\n",
       "  <thead>\n",
       "    <tr style=\"text-align: right;\">\n",
       "      <th></th>\n",
       "      <th>5</th>\n",
       "    </tr>\n",
       "  </thead>\n",
       "  <tbody>\n",
       "  </tbody>\n",
       "</table>\n",
       "</div>"
      ],
      "text/plain": [
       "Empty DataFrame\n",
       "Columns: [5]\n",
       "Index: []"
      ]
     },
     "execution_count": 52,
     "metadata": {},
     "output_type": "execute_result"
    }
   ],
   "source": [
    "validation_y"
   ]
  },
  {
   "cell_type": "code",
   "execution_count": null,
   "metadata": {},
   "outputs": [
    {
     "data": {
      "text/plain": [
       "((7351, 1), (7351, 128), (7351, 128), (7351, 1), (7351, 128))"
      ]
     },
     "execution_count": 16,
     "metadata": {},
     "output_type": "execute_result"
    }
   ],
   "source": [
    "users.shape, train_acc_x.shape, train_acc_y.shape, y_train.shape, train_total.shape"
   ]
  }
 ],
 "metadata": {
  "kernelspec": {
   "display_name": "Python 3",
   "language": "python",
   "name": "python3"
  },
  "language_info": {
   "codemirror_mode": {
    "name": "ipython",
    "version": 3
   },
   "file_extension": ".py",
   "mimetype": "text/x-python",
   "name": "python",
   "nbconvert_exporter": "python",
   "pygments_lexer": "ipython3",
   "version": "3.11.9"
  }
 },
 "nbformat": 4,
 "nbformat_minor": 2
}

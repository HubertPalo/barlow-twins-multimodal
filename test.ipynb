{
 "cells": [
  {
   "cell_type": "code",
   "execution_count": 5,
   "metadata": {},
   "outputs": [
    {
     "name": "stdout",
     "output_type": "stream",
     "text": [
      "Users used for training:  [ 5  6  7 11 14 16 17 21 22 23 26 28 29 30]\n",
      "Users used for validation:  [ 1 27 25  3 15  8 19]\n"
     ]
    }
   ],
   "source": [
    "from data_helper import timeserie2image, read_files, preprocess_data, timeseries2imageRP\n",
    "train_data, train_y, validation_data, validation_y, test_data, test_y = read_files()\n",
    "test_x = preprocess_data(test_data)"
   ]
  },
  {
   "cell_type": "code",
   "execution_count": 9,
   "metadata": {},
   "outputs": [
    {
     "data": {
      "text/plain": [
       "<Axes: title={'center': 'Count (target)'}, xlabel='0'>"
      ]
     },
     "execution_count": 9,
     "metadata": {},
     "output_type": "execute_result"
    },
    {
     "data": {
      "image/png": "[encoded data removed]",
      "text/plain": [
       "<Figure size 640x480 with 1 Axes>"
      ]
     },
     "metadata": {},
     "output_type": "display_data"
    }
   ],
   "source": [
    "test_y.value_counts().plot(kind='bar', title='Count (target)')"
   ]
  },
  {
   "cell_type": "code",
   "execution_count": 3,
   "metadata": {},
   "outputs": [
    {
     "name": "stderr",
     "output_type": "stream",
     "text": [
      "C:\\Users\\dpalo\\AppData\\Local\\Packages\\PythonSoftwareFoundation.Python.3.11_qbz5n2kfra8p0\\LocalCache\\local-packages\\Python311\\site-packages\\lightning\\pytorch\\utilities\\migration\\utils.py:56: The loaded checkpoint was produced with Lightning v2.2.4, which is newer than your current Lightning version: v2.2.1\n"
     ]
    }
   ],
   "source": [
    "from data_helper import timeserie2image, read_files, preprocess_data\n",
    "import numpy as np\n",
    "import pandas as pd\n",
    "from dataset import UCIHARDataset\n",
    "from transform import Transform, ResizeTransform\n",
    "import torch\n",
    "from barlowtwins import BarlowTwins\n",
    "from lightning.pytorch.callbacks import EarlyStopping, ModelCheckpoint\n",
    "from lightning.pytorch.trainer import Trainer\n",
    "import datetime\n",
    "import os\n",
    "from classifier import SSLClassifier\n",
    "from torch import nn, set_float32_matmul_precision\n",
    "from torchvision.transforms import ToPILImage, Resize\n",
    "\n",
    "set_float32_matmul_precision('medium')\n",
    "np.random.seed(42)\n",
    "\n",
    "# def main(args):\n",
    "prediction_head = nn.Sequential(\n",
    "    # From (512,1,1) to (512)\n",
    "    # nn.Flatten(),\n",
    "    nn.Linear(512, 256),\n",
    "    nn.ReLU(),\n",
    "    nn.Linear(256, 6)\n",
    ")\n",
    "\n",
    "model = BarlowTwins.load_from_checkpoint(f'TRY1/BT-PRETEXT-model.ckpt')\n",
    "classifier = SSLClassifier.load_from_checkpoint(\n",
    "    f'TRY1/BT-DOWNSTREAM-model.ckpt',\n",
    "    backbone=model.backbone,\n",
    "    prediction_head=prediction_head, freeze_backbone=False\n",
    "    )"
   ]
  },
  {
   "cell_type": "code",
   "execution_count": null,
   "metadata": {},
   "outputs": [],
   "source": [
    "from data_helper import timeserie2image, read_files, preprocess_data\n",
    "import numpy as np\n",
    "import pandas as pd\n",
    "from dataset import UCIHARDataset\n",
    "from transform import Transform, ResizeTransform\n",
    "import torch\n",
    "from barlowtwins import BarlowTwins\n",
    "from lightning.pytorch.callbacks import EarlyStopping, ModelCheckpoint\n",
    "from lightning.pytorch.trainer import Trainer\n",
    "import datetime\n",
    "import os\n",
    "from classifier import SSLClassifier\n",
    "from torch import nn, set_float32_matmul_precision\n",
    "from torchvision.transforms import ToPILImage, Resize\n",
    "\n",
    "set_float32_matmul_precision('medium')\n",
    "np.random.seed(42)\n",
    "\n",
    "def main(args):\n",
    "    prediction_head = nn.Sequential(\n",
    "        # From (512,1,1) to (512)\n",
    "        # nn.Flatten(),\n",
    "        nn.Linear(512, 256),\n",
    "        nn.ReLU(),\n",
    "        nn.Linear(256, 6)\n",
    "    )\n",
    "    \n",
    "    model = BarlowTwins.load_from_checkpoint(f'{args.dirpath}/BT-PRETEXT-{args.filename}.ckpt')\n",
    "    classifier = SSLClassifier.load_from_checkpoint(\n",
    "        f'TRY1/BT-DOWNSTREAM-model.ckpt',\n",
    "        # backbone=model.backbone,\n",
    "        # prediction_head=prediction_head, freeze_backbone=True\n",
    "        )\n",
    "    classifier = SSLClassifier(backbone=model.backbone, prediction_head=prediction_head, freeze_backbone=True)\n",
    "\n",
    "    model = BarlowTwins.load_from_checkpoint(f'{model_folder}/model.ckpt')\n",
    "    classifier = SSLClassifier(backbone=model.backbone, prediction_head=prediction_head, freeze_backbone=True)\n",
    "\n",
    "\n",
    "np.random.seed(42)\n",
    "\n",
    "train_data, train_y, validation_data, validation_y, test_data, test_y = read_files()\n",
    "test_x = preprocess_data(test_data)\n",
    "\n",
    "test_dataset = UCIHARDataset(test_x, test_y, transform=ResizeTransform(), output_num=1)\n",
    "\n",
    "test_dataloader = torch.utils.data.DataLoader(test_dataset, batch_size=256, shuffle=False)\n",
    "\n",
    "classifier = SSLClassifier.load_from_checkpoint(f'{model_folder}TEST/model.ckpt', backbone=model.backbone, prediction_head=prediction_head, freeze_backbone=True)\n",
    "# classifier = SSLClassifier(backbone=model.backbone, prediction_head=prediction_head, freeze_backbone=True)\n",
    "\n",
    "trainer = Trainer(accelerator=\"gpu\", devices=[0])\n",
    "# trainer.fit(model=classifier, train_dataloaders=train_dataloader, val_dataloaders=val_dataloader)\n",
    "\n",
    "predictions = trainer.predict(model=classifier, dataloaders=test_dataloader, return_predictions=True)\n",
    "y_orig = []\n",
    "y_pred = []\n",
    "for pred_list in predictions:\n",
    "    y_orig.extend(pred_list[1].tolist())\n",
    "    y_pred.extend(pred_list[0].tolist())\n",
    "\n",
    "from torchmetrics.classification import MulticlassConfusionMatrix\n",
    "target = torch.tensor(y_orig)\n",
    "preds = torch.tensor(y_pred)\n",
    "metric = MulticlassConfusionMatrix(num_classes=6)\n",
    "print(metric(preds, target))\n",
    "\n",
    "\n",
    "# print(torch.stack(predictions).shape)\n",
    "# y_orig = [val[1] for val in predictions]\n"
   ]
  },
  {
   "cell_type": "code",
   "execution_count": 1,
   "metadata": {},
   "outputs": [],
   "source": [
    "from data_helper import timeserie2image, read_files\n",
    "import numpy as np\n",
    "import pandas as pd\n",
    "from dataset import UCIHARDataset\n",
    "from transform import Transform\n",
    "import torch\n",
    "from barlowtwins import BarlowTwins\n",
    "from lightning.pytorch.callbacks import EarlyStopping, ModelCheckpoint\n",
    "from lightning.pytorch.trainer import Trainer\n",
    "import datetime\n",
    "\n",
    "\n",
    "np.random.seed(42)"
   ]
  },
  {
   "cell_type": "code",
   "execution_count": 2,
   "metadata": {},
   "outputs": [],
   "source": [
    "train_data, train_y, validation_data, validation_y, test_data, test_y = read_files()"
   ]
  },
  {
   "cell_type": "code",
   "execution_count": 3,
   "metadata": {},
   "outputs": [],
   "source": [
    "from PIL import Image\n",
    "import torch\n",
    "from torchvision import transforms\n",
    "\n",
    "train_x = []\n",
    "for i in range(train_data.shape[0]):\n",
    "    signal = train_data.iloc[i,:].values.reshape(9, -1)\n",
    "    image = timeserie2image(signal)\n",
    "    image = np.array([image, image, image])\n",
    "    image = torch.tensor(image)\n",
    "    image = transforms.ToPILImage()(image)\n",
    "    image = transforms.Resize((224, 224))(image)\n",
    "    # image = transforms.ToTensor()(image)\n",
    "    train_x.append(image)\n",
    "# train_x = torch.stack(train_x)\n",
    "# train_x = torch.tensor(np.array(train_x))\n",
    "\n",
    "validation_x = []\n",
    "for i in range(validation_data.shape[0]):\n",
    "    signal = validation_data.iloc[i,:].values.reshape(9, -1)\n",
    "    image = timeserie2image(signal)\n",
    "    image = np.array([image, image, image])\n",
    "    validation_x.append(image)\n",
    "validation_x = torch\n",
    "# validation_x = torch.tensor(np.array(validation_x))\n",
    "\n",
    "test_x = []\n",
    "for i in range(test_data.shape[0]):\n",
    "    signal = test_data.iloc[i,:].values.reshape(9, -1)\n",
    "    image = timeserie2image(signal)\n",
    "    image = np.array([image, image, image])\n",
    "    test_x.append(image)\n",
    "test_x = torch.tensor(np.array(test_x))"
   ]
  },
  {
   "cell_type": "code",
   "execution_count": 4,
   "metadata": {},
   "outputs": [
    {
     "ename": "AttributeError",
     "evalue": "'list' object has no attribute 'shape'",
     "output_type": "error",
     "traceback": [
      "\u001b[1;31m---------------------------------------------------------------------------\u001b[0m",
      "\u001b[1;31mAttributeError\u001b[0m                            Traceback (most recent call last)",
      "Cell \u001b[1;32mIn[4], line 1\u001b[0m\n\u001b[1;32m----> 1\u001b[0m \u001b[38;5;28mprint\u001b[39m(\u001b[43mtrain_x\u001b[49m\u001b[38;5;241;43m.\u001b[39;49m\u001b[43mshape\u001b[49m, validation_x\u001b[38;5;241m.\u001b[39mshape, test_x\u001b[38;5;241m.\u001b[39mshape)\n",
      "\u001b[1;31mAttributeError\u001b[0m: 'list' object has no attribute 'shape'"
     ]
    }
   ],
   "source": [
    "print(train_x.shape, validation_x.shape, test_x.shape)"
   ]
  },
  {
   "cell_type": "code",
   "execution_count": 5,
   "metadata": {},
   "outputs": [],
   "source": [
    "train_dataset = UCIHARDataset(train_x, train_y, transform=Transform())\n",
    "# val_dataset = UCIHARDataset(validation_x, validation_y, transform=Transform())\n",
    "# test_dataset = UCIHARDataset(test_x, test_y, transform=Transform())"
   ]
  },
  {
   "cell_type": "code",
   "execution_count": 6,
   "metadata": {},
   "outputs": [],
   "source": [
    "iterv = iter(train_dataset)"
   ]
  },
  {
   "cell_type": "code",
   "execution_count": 7,
   "metadata": {},
   "outputs": [
    {
     "data": {
      "text/plain": [
       "5"
      ]
     },
     "execution_count": 7,
     "metadata": {},
     "output_type": "execute_result"
    }
   ],
   "source": [
    "next(iterv)[2]"
   ]
  },
  {
   "cell_type": "code",
   "execution_count": null,
   "metadata": {},
   "outputs": [],
   "source": []
  },
  {
   "cell_type": "code",
   "execution_count": null,
   "metadata": {},
   "outputs": [],
   "source": [
    "train_dataloader = torch.utils.data.DataLoader(train_dataset, batch_size=256, shuffle=True)\n",
    "val_dataloader = torch.utils.data.DataLoader(val_dataset, batch_size=256, shuffle=False)\n",
    "test_dataloader = torch.utils.data.DataLoader(test_dataset, batch_size=256, shuffle=False)"
   ]
  },
  {
   "cell_type": "code",
   "execution_count": null,
   "metadata": {},
   "outputs": [],
   "source": [
    "bt_model = BarlowTwins()\n",
    "current_date = datetime.datetime.now().strftime(\"%Y-%m-%d_%H-%M-%S\")"
   ]
  },
  {
   "cell_type": "code",
   "execution_count": null,
   "metadata": {},
   "outputs": [
    {
     "name": "stderr",
     "output_type": "stream",
     "text": [
      "GPU available: True (cuda), used: True\n",
      "TPU available: False, using: 0 TPU cores\n",
      "IPU available: False, using: 0 IPUs\n",
      "HPU available: False, using: 0 HPUs\n",
      "`Trainer(limit_train_batches=1.0)` was configured so 100% of the batches per epoch will be used..\n",
      "LOCAL_RANK: 0 - CUDA_VISIBLE_DEVICES: [0]\n"
     ]
    },
    {
     "ename": "RuntimeError",
     "evalue": "CUDA error: out of memory\nCUDA kernel errors might be asynchronously reported at some other API call, so the stacktrace below might be incorrect.\nFor debugging consider passing CUDA_LAUNCH_BLOCKING=1.\nCompile with `TORCH_USE_CUDA_DSA` to enable device-side assertions.\n",
     "output_type": "error",
     "traceback": [
      "\u001b[1;31m---------------------------------------------------------------------------\u001b[0m",
      "\u001b[1;31mRuntimeError\u001b[0m                              Traceback (most recent call last)",
      "File \u001b[1;32m~\\AppData\\Local\\Packages\\PythonSoftwareFoundation.Python.3.11_qbz5n2kfra8p0\\LocalCache\\local-packages\\Python311\\site-packages\\lightning\\pytorch\\trainer\\call.py:44\u001b[0m, in \u001b[0;36m_call_and_handle_interrupt\u001b[1;34m(trainer, trainer_fn, *args, **kwargs)\u001b[0m\n\u001b[0;32m     43\u001b[0m         \u001b[38;5;28;01mreturn\u001b[39;00m trainer\u001b[38;5;241m.\u001b[39mstrategy\u001b[38;5;241m.\u001b[39mlauncher\u001b[38;5;241m.\u001b[39mlaunch(trainer_fn, \u001b[38;5;241m*\u001b[39margs, trainer\u001b[38;5;241m=\u001b[39mtrainer, \u001b[38;5;241m*\u001b[39m\u001b[38;5;241m*\u001b[39mkwargs)\n\u001b[1;32m---> 44\u001b[0m     \u001b[38;5;28;01mreturn\u001b[39;00m \u001b[43mtrainer_fn\u001b[49m\u001b[43m(\u001b[49m\u001b[38;5;241;43m*\u001b[39;49m\u001b[43margs\u001b[49m\u001b[43m,\u001b[49m\u001b[43m \u001b[49m\u001b[38;5;241;43m*\u001b[39;49m\u001b[38;5;241;43m*\u001b[39;49m\u001b[43mkwargs\u001b[49m\u001b[43m)\u001b[49m\n\u001b[0;32m     46\u001b[0m \u001b[38;5;28;01mexcept\u001b[39;00m _TunerExitException:\n",
      "File \u001b[1;32m~\\AppData\\Local\\Packages\\PythonSoftwareFoundation.Python.3.11_qbz5n2kfra8p0\\LocalCache\\local-packages\\Python311\\site-packages\\lightning\\pytorch\\trainer\\trainer.py:580\u001b[0m, in \u001b[0;36mTrainer._fit_impl\u001b[1;34m(self, model, train_dataloaders, val_dataloaders, datamodule, ckpt_path)\u001b[0m\n\u001b[0;32m    574\u001b[0m ckpt_path \u001b[38;5;241m=\u001b[39m \u001b[38;5;28mself\u001b[39m\u001b[38;5;241m.\u001b[39m_checkpoint_connector\u001b[38;5;241m.\u001b[39m_select_ckpt_path(\n\u001b[0;32m    575\u001b[0m     \u001b[38;5;28mself\u001b[39m\u001b[38;5;241m.\u001b[39mstate\u001b[38;5;241m.\u001b[39mfn,\n\u001b[0;32m    576\u001b[0m     ckpt_path,\n\u001b[0;32m    577\u001b[0m     model_provided\u001b[38;5;241m=\u001b[39m\u001b[38;5;28;01mTrue\u001b[39;00m,\n\u001b[0;32m    578\u001b[0m     model_connected\u001b[38;5;241m=\u001b[39m\u001b[38;5;28mself\u001b[39m\u001b[38;5;241m.\u001b[39mlightning_module \u001b[38;5;129;01mis\u001b[39;00m \u001b[38;5;129;01mnot\u001b[39;00m \u001b[38;5;28;01mNone\u001b[39;00m,\n\u001b[0;32m    579\u001b[0m )\n\u001b[1;32m--> 580\u001b[0m \u001b[38;5;28;43mself\u001b[39;49m\u001b[38;5;241;43m.\u001b[39;49m\u001b[43m_run\u001b[49m\u001b[43m(\u001b[49m\u001b[43mmodel\u001b[49m\u001b[43m,\u001b[49m\u001b[43m \u001b[49m\u001b[43mckpt_path\u001b[49m\u001b[38;5;241;43m=\u001b[39;49m\u001b[43mckpt_path\u001b[49m\u001b[43m)\u001b[49m\n\u001b[0;32m    582\u001b[0m \u001b[38;5;28;01massert\u001b[39;00m \u001b[38;5;28mself\u001b[39m\u001b[38;5;241m.\u001b[39mstate\u001b[38;5;241m.\u001b[39mstopped\n",
      "File \u001b[1;32m~\\AppData\\Local\\Packages\\PythonSoftwareFoundation.Python.3.11_qbz5n2kfra8p0\\LocalCache\\local-packages\\Python311\\site-packages\\lightning\\pytorch\\trainer\\trainer.py:963\u001b[0m, in \u001b[0;36mTrainer._run\u001b[1;34m(self, model, ckpt_path)\u001b[0m\n\u001b[0;32m    962\u001b[0m \u001b[38;5;66;03m# strategy will configure model and move it to the device\u001b[39;00m\n\u001b[1;32m--> 963\u001b[0m \u001b[38;5;28;43mself\u001b[39;49m\u001b[38;5;241;43m.\u001b[39;49m\u001b[43mstrategy\u001b[49m\u001b[38;5;241;43m.\u001b[39;49m\u001b[43msetup\u001b[49m\u001b[43m(\u001b[49m\u001b[38;5;28;43mself\u001b[39;49m\u001b[43m)\u001b[49m\n\u001b[0;32m    965\u001b[0m \u001b[38;5;66;03m# hook\u001b[39;00m\n",
      "File \u001b[1;32m~\\AppData\\Local\\Packages\\PythonSoftwareFoundation.Python.3.11_qbz5n2kfra8p0\\LocalCache\\local-packages\\Python311\\site-packages\\lightning\\pytorch\\strategies\\strategy.py:149\u001b[0m, in \u001b[0;36mStrategy.setup\u001b[1;34m(self, trainer)\u001b[0m\n\u001b[0;32m    148\u001b[0m \u001b[38;5;28;01massert\u001b[39;00m \u001b[38;5;28mself\u001b[39m\u001b[38;5;241m.\u001b[39maccelerator \u001b[38;5;129;01mis\u001b[39;00m \u001b[38;5;129;01mnot\u001b[39;00m \u001b[38;5;28;01mNone\u001b[39;00m\n\u001b[1;32m--> 149\u001b[0m \u001b[38;5;28;43mself\u001b[39;49m\u001b[38;5;241;43m.\u001b[39;49m\u001b[43maccelerator\u001b[49m\u001b[38;5;241;43m.\u001b[39;49m\u001b[43msetup\u001b[49m\u001b[43m(\u001b[49m\u001b[43mtrainer\u001b[49m\u001b[43m)\u001b[49m\n\u001b[0;32m    151\u001b[0m \u001b[38;5;28;01massert\u001b[39;00m \u001b[38;5;28mself\u001b[39m\u001b[38;5;241m.\u001b[39mmodel \u001b[38;5;129;01mis\u001b[39;00m \u001b[38;5;129;01mnot\u001b[39;00m \u001b[38;5;28;01mNone\u001b[39;00m\n",
      "File \u001b[1;32m~\\AppData\\Local\\Packages\\PythonSoftwareFoundation.Python.3.11_qbz5n2kfra8p0\\LocalCache\\local-packages\\Python311\\site-packages\\lightning\\pytorch\\accelerators\\cuda.py:53\u001b[0m, in \u001b[0;36mCUDAAccelerator.setup\u001b[1;34m(self, trainer)\u001b[0m\n\u001b[0;32m     52\u001b[0m \u001b[38;5;28mself\u001b[39m\u001b[38;5;241m.\u001b[39mset_nvidia_flags(trainer\u001b[38;5;241m.\u001b[39mlocal_rank)\n\u001b[1;32m---> 53\u001b[0m \u001b[43m_clear_cuda_memory\u001b[49m\u001b[43m(\u001b[49m\u001b[43m)\u001b[49m\n",
      "File \u001b[1;32m~\\AppData\\Local\\Packages\\PythonSoftwareFoundation.Python.3.11_qbz5n2kfra8p0\\LocalCache\\local-packages\\Python311\\site-packages\\lightning\\fabric\\accelerators\\cuda.py:381\u001b[0m, in \u001b[0;36m_clear_cuda_memory\u001b[1;34m()\u001b[0m\n\u001b[0;32m    380\u001b[0m     torch\u001b[38;5;241m.\u001b[39m_C\u001b[38;5;241m.\u001b[39m_cuda_clearCublasWorkspaces()\n\u001b[1;32m--> 381\u001b[0m \u001b[43mtorch\u001b[49m\u001b[38;5;241;43m.\u001b[39;49m\u001b[43mcuda\u001b[49m\u001b[38;5;241;43m.\u001b[39;49m\u001b[43mempty_cache\u001b[49m\u001b[43m(\u001b[49m\u001b[43m)\u001b[49m\n",
      "File \u001b[1;32m~\\AppData\\Local\\Packages\\PythonSoftwareFoundation.Python.3.11_qbz5n2kfra8p0\\LocalCache\\local-packages\\Python311\\site-packages\\torch\\cuda\\memory.py:162\u001b[0m, in \u001b[0;36mempty_cache\u001b[1;34m()\u001b[0m\n\u001b[0;32m    161\u001b[0m \u001b[38;5;28;01mif\u001b[39;00m is_initialized():\n\u001b[1;32m--> 162\u001b[0m     \u001b[43mtorch\u001b[49m\u001b[38;5;241;43m.\u001b[39;49m\u001b[43m_C\u001b[49m\u001b[38;5;241;43m.\u001b[39;49m\u001b[43m_cuda_emptyCache\u001b[49m\u001b[43m(\u001b[49m\u001b[43m)\u001b[49m\n",
      "\u001b[1;31mRuntimeError\u001b[0m: CUDA error: out of memory\nCUDA kernel errors might be asynchronously reported at some other API call, so the stacktrace below might be incorrect.\nFor debugging consider passing CUDA_LAUNCH_BLOCKING=1.\nCompile with `TORCH_USE_CUDA_DSA` to enable device-side assertions.\n",
      "\nDuring handling of the above exception, another exception occurred:\n",
      "\u001b[1;31mRuntimeError\u001b[0m                              Traceback (most recent call last)",
      "Cell \u001b[1;32mIn[22], line 10\u001b[0m\n\u001b[0;32m      2\u001b[0m checkpoint_callback \u001b[38;5;241m=\u001b[39m ModelCheckpoint(\n\u001b[0;32m      3\u001b[0m     monitor\u001b[38;5;241m=\u001b[39m\u001b[38;5;124m'\u001b[39m\u001b[38;5;124mval_loss\u001b[39m\u001b[38;5;124m'\u001b[39m,  \u001b[38;5;66;03m# Monitor validation loss\u001b[39;00m\n\u001b[0;32m      4\u001b[0m     mode\u001b[38;5;241m=\u001b[39m\u001b[38;5;124m'\u001b[39m\u001b[38;5;124mmin\u001b[39m\u001b[38;5;124m'\u001b[39m,          \u001b[38;5;66;03m# 'min' mode means the checkpoint will be saved when the monitored quantity decreases\u001b[39;00m\n\u001b[1;32m   (...)\u001b[0m\n\u001b[0;32m      7\u001b[0m     filename\u001b[38;5;241m=\u001b[39m\u001b[38;5;124m'\u001b[39m\u001b[38;5;124mmodel\u001b[39m\u001b[38;5;124m'\u001b[39m,  \u001b[38;5;66;03m# Filename format\u001b[39;00m\n\u001b[0;32m      8\u001b[0m )\n\u001b[0;32m      9\u001b[0m trainer \u001b[38;5;241m=\u001b[39m Trainer(limit_train_batches\u001b[38;5;241m=\u001b[39m\u001b[38;5;241m1.0\u001b[39m, max_epochs\u001b[38;5;241m=\u001b[39m\u001b[38;5;241m100000\u001b[39m, callbacks\u001b[38;5;241m=\u001b[39m[early_stopping, checkpoint_callback], accelerator\u001b[38;5;241m=\u001b[39m\u001b[38;5;124m\"\u001b[39m\u001b[38;5;124mgpu\u001b[39m\u001b[38;5;124m\"\u001b[39m, devices\u001b[38;5;241m=\u001b[39m\u001b[38;5;124m\"\u001b[39m\u001b[38;5;124mauto\u001b[39m\u001b[38;5;124m\"\u001b[39m)\n\u001b[1;32m---> 10\u001b[0m \u001b[43mtrainer\u001b[49m\u001b[38;5;241;43m.\u001b[39;49m\u001b[43mfit\u001b[49m\u001b[43m(\u001b[49m\u001b[43mmodel\u001b[49m\u001b[38;5;241;43m=\u001b[39;49m\u001b[43mbt_model\u001b[49m\u001b[43m,\u001b[49m\u001b[43m \u001b[49m\u001b[43mtrain_dataloaders\u001b[49m\u001b[38;5;241;43m=\u001b[39;49m\u001b[43mtrain_dataloader\u001b[49m\u001b[43m,\u001b[49m\u001b[43m \u001b[49m\u001b[43mval_dataloaders\u001b[49m\u001b[38;5;241;43m=\u001b[39;49m\u001b[43mval_dataloader\u001b[49m\u001b[43m)\u001b[49m\n",
      "File \u001b[1;32m~\\AppData\\Local\\Packages\\PythonSoftwareFoundation.Python.3.11_qbz5n2kfra8p0\\LocalCache\\local-packages\\Python311\\site-packages\\lightning\\pytorch\\trainer\\trainer.py:544\u001b[0m, in \u001b[0;36mTrainer.fit\u001b[1;34m(self, model, train_dataloaders, val_dataloaders, datamodule, ckpt_path)\u001b[0m\n\u001b[0;32m    542\u001b[0m \u001b[38;5;28mself\u001b[39m\u001b[38;5;241m.\u001b[39mstate\u001b[38;5;241m.\u001b[39mstatus \u001b[38;5;241m=\u001b[39m TrainerStatus\u001b[38;5;241m.\u001b[39mRUNNING\n\u001b[0;32m    543\u001b[0m \u001b[38;5;28mself\u001b[39m\u001b[38;5;241m.\u001b[39mtraining \u001b[38;5;241m=\u001b[39m \u001b[38;5;28;01mTrue\u001b[39;00m\n\u001b[1;32m--> 544\u001b[0m \u001b[43mcall\u001b[49m\u001b[38;5;241;43m.\u001b[39;49m\u001b[43m_call_and_handle_interrupt\u001b[49m\u001b[43m(\u001b[49m\n\u001b[0;32m    545\u001b[0m \u001b[43m    \u001b[49m\u001b[38;5;28;43mself\u001b[39;49m\u001b[43m,\u001b[49m\u001b[43m \u001b[49m\u001b[38;5;28;43mself\u001b[39;49m\u001b[38;5;241;43m.\u001b[39;49m\u001b[43m_fit_impl\u001b[49m\u001b[43m,\u001b[49m\u001b[43m \u001b[49m\u001b[43mmodel\u001b[49m\u001b[43m,\u001b[49m\u001b[43m \u001b[49m\u001b[43mtrain_dataloaders\u001b[49m\u001b[43m,\u001b[49m\u001b[43m \u001b[49m\u001b[43mval_dataloaders\u001b[49m\u001b[43m,\u001b[49m\u001b[43m \u001b[49m\u001b[43mdatamodule\u001b[49m\u001b[43m,\u001b[49m\u001b[43m \u001b[49m\u001b[43mckpt_path\u001b[49m\n\u001b[0;32m    546\u001b[0m \u001b[43m\u001b[49m\u001b[43m)\u001b[49m\n",
      "File \u001b[1;32m~\\AppData\\Local\\Packages\\PythonSoftwareFoundation.Python.3.11_qbz5n2kfra8p0\\LocalCache\\local-packages\\Python311\\site-packages\\lightning\\pytorch\\trainer\\call.py:68\u001b[0m, in \u001b[0;36m_call_and_handle_interrupt\u001b[1;34m(trainer, trainer_fn, *args, **kwargs)\u001b[0m\n\u001b[0;32m     66\u001b[0m \u001b[38;5;28;01mfor\u001b[39;00m logger \u001b[38;5;129;01min\u001b[39;00m trainer\u001b[38;5;241m.\u001b[39mloggers:\n\u001b[0;32m     67\u001b[0m     logger\u001b[38;5;241m.\u001b[39mfinalize(\u001b[38;5;124m\"\u001b[39m\u001b[38;5;124mfailed\u001b[39m\u001b[38;5;124m\"\u001b[39m)\n\u001b[1;32m---> 68\u001b[0m \u001b[43mtrainer\u001b[49m\u001b[38;5;241;43m.\u001b[39;49m\u001b[43m_teardown\u001b[49m\u001b[43m(\u001b[49m\u001b[43m)\u001b[49m\n\u001b[0;32m     69\u001b[0m \u001b[38;5;66;03m# teardown might access the stage so we reset it after\u001b[39;00m\n\u001b[0;32m     70\u001b[0m trainer\u001b[38;5;241m.\u001b[39mstate\u001b[38;5;241m.\u001b[39mstage \u001b[38;5;241m=\u001b[39m \u001b[38;5;28;01mNone\u001b[39;00m\n",
      "File \u001b[1;32m~\\AppData\\Local\\Packages\\PythonSoftwareFoundation.Python.3.11_qbz5n2kfra8p0\\LocalCache\\local-packages\\Python311\\site-packages\\lightning\\pytorch\\trainer\\trainer.py:1010\u001b[0m, in \u001b[0;36mTrainer._teardown\u001b[1;34m(self)\u001b[0m\n\u001b[0;32m   1007\u001b[0m \u001b[38;5;28;01mdef\u001b[39;00m \u001b[38;5;21m_teardown\u001b[39m(\u001b[38;5;28mself\u001b[39m) \u001b[38;5;241m-\u001b[39m\u001b[38;5;241m>\u001b[39m \u001b[38;5;28;01mNone\u001b[39;00m:\n\u001b[0;32m   1008\u001b[0m \u001b[38;5;250m    \u001b[39m\u001b[38;5;124;03m\"\"\"This is the Trainer's internal teardown, unrelated to the `teardown` hooks in LightningModule and Callback;\u001b[39;00m\n\u001b[0;32m   1009\u001b[0m \u001b[38;5;124;03m    those are handled by :meth:`_call_teardown_hook`.\"\"\"\u001b[39;00m\n\u001b[1;32m-> 1010\u001b[0m     \u001b[38;5;28;43mself\u001b[39;49m\u001b[38;5;241;43m.\u001b[39;49m\u001b[43mstrategy\u001b[49m\u001b[38;5;241;43m.\u001b[39;49m\u001b[43mteardown\u001b[49m\u001b[43m(\u001b[49m\u001b[43m)\u001b[49m\n\u001b[0;32m   1011\u001b[0m     loop \u001b[38;5;241m=\u001b[39m \u001b[38;5;28mself\u001b[39m\u001b[38;5;241m.\u001b[39m_active_loop\n\u001b[0;32m   1012\u001b[0m     \u001b[38;5;66;03m# loop should never be `None` here but it can because we don't know the trainer stage with `ddp_spawn`\u001b[39;00m\n",
      "File \u001b[1;32m~\\AppData\\Local\\Packages\\PythonSoftwareFoundation.Python.3.11_qbz5n2kfra8p0\\LocalCache\\local-packages\\Python311\\site-packages\\lightning\\pytorch\\strategies\\strategy.py:540\u001b[0m, in \u001b[0;36mStrategy.teardown\u001b[1;34m(self)\u001b[0m\n\u001b[0;32m    538\u001b[0m \u001b[38;5;28mself\u001b[39m\u001b[38;5;241m.\u001b[39mprecision_plugin\u001b[38;5;241m.\u001b[39mteardown()\n\u001b[0;32m    539\u001b[0m \u001b[38;5;28;01massert\u001b[39;00m \u001b[38;5;28mself\u001b[39m\u001b[38;5;241m.\u001b[39maccelerator \u001b[38;5;129;01mis\u001b[39;00m \u001b[38;5;129;01mnot\u001b[39;00m \u001b[38;5;28;01mNone\u001b[39;00m\n\u001b[1;32m--> 540\u001b[0m \u001b[38;5;28;43mself\u001b[39;49m\u001b[38;5;241;43m.\u001b[39;49m\u001b[43maccelerator\u001b[49m\u001b[38;5;241;43m.\u001b[39;49m\u001b[43mteardown\u001b[49m\u001b[43m(\u001b[49m\u001b[43m)\u001b[49m\n\u001b[0;32m    541\u001b[0m \u001b[38;5;28mself\u001b[39m\u001b[38;5;241m.\u001b[39mcheckpoint_io\u001b[38;5;241m.\u001b[39mteardown()\n",
      "File \u001b[1;32m~\\AppData\\Local\\Packages\\PythonSoftwareFoundation.Python.3.11_qbz5n2kfra8p0\\LocalCache\\local-packages\\Python311\\site-packages\\lightning\\pytorch\\accelerators\\cuda.py:82\u001b[0m, in \u001b[0;36mCUDAAccelerator.teardown\u001b[1;34m(self)\u001b[0m\n\u001b[0;32m     80\u001b[0m \u001b[38;5;129m@override\u001b[39m\n\u001b[0;32m     81\u001b[0m \u001b[38;5;28;01mdef\u001b[39;00m \u001b[38;5;21mteardown\u001b[39m(\u001b[38;5;28mself\u001b[39m) \u001b[38;5;241m-\u001b[39m\u001b[38;5;241m>\u001b[39m \u001b[38;5;28;01mNone\u001b[39;00m:\n\u001b[1;32m---> 82\u001b[0m     \u001b[43m_clear_cuda_memory\u001b[49m\u001b[43m(\u001b[49m\u001b[43m)\u001b[49m\n",
      "File \u001b[1;32m~\\AppData\\Local\\Packages\\PythonSoftwareFoundation.Python.3.11_qbz5n2kfra8p0\\LocalCache\\local-packages\\Python311\\site-packages\\lightning\\fabric\\accelerators\\cuda.py:381\u001b[0m, in \u001b[0;36m_clear_cuda_memory\u001b[1;34m()\u001b[0m\n\u001b[0;32m    378\u001b[0m \u001b[38;5;28;01mif\u001b[39;00m _TORCH_GREATER_EQUAL_2_0 \u001b[38;5;129;01mand\u001b[39;00m \u001b[38;5;28mhasattr\u001b[39m(torch\u001b[38;5;241m.\u001b[39m_C, \u001b[38;5;124m\"\u001b[39m\u001b[38;5;124m_cuda_clearCublasWorkspaces\u001b[39m\u001b[38;5;124m\"\u001b[39m):\n\u001b[0;32m    379\u001b[0m     \u001b[38;5;66;03m# https://github.com/pytorch/pytorch/issues/95668\u001b[39;00m\n\u001b[0;32m    380\u001b[0m     torch\u001b[38;5;241m.\u001b[39m_C\u001b[38;5;241m.\u001b[39m_cuda_clearCublasWorkspaces()\n\u001b[1;32m--> 381\u001b[0m \u001b[43mtorch\u001b[49m\u001b[38;5;241;43m.\u001b[39;49m\u001b[43mcuda\u001b[49m\u001b[38;5;241;43m.\u001b[39;49m\u001b[43mempty_cache\u001b[49m\u001b[43m(\u001b[49m\u001b[43m)\u001b[49m\n",
      "File \u001b[1;32m~\\AppData\\Local\\Packages\\PythonSoftwareFoundation.Python.3.11_qbz5n2kfra8p0\\LocalCache\\local-packages\\Python311\\site-packages\\torch\\cuda\\memory.py:162\u001b[0m, in \u001b[0;36mempty_cache\u001b[1;34m()\u001b[0m\n\u001b[0;32m    151\u001b[0m \u001b[38;5;250m\u001b[39m\u001b[38;5;124mr\u001b[39m\u001b[38;5;124;03m\"\"\"Release all unoccupied cached memory currently held by the caching\u001b[39;00m\n\u001b[0;32m    152\u001b[0m \u001b[38;5;124;03mallocator so that those can be used in other GPU application and visible in\u001b[39;00m\n\u001b[0;32m    153\u001b[0m \u001b[38;5;124;03m`nvidia-smi`.\u001b[39;00m\n\u001b[1;32m   (...)\u001b[0m\n\u001b[0;32m    159\u001b[0m \u001b[38;5;124;03m    more details about GPU memory management.\u001b[39;00m\n\u001b[0;32m    160\u001b[0m \u001b[38;5;124;03m\"\"\"\u001b[39;00m\n\u001b[0;32m    161\u001b[0m \u001b[38;5;28;01mif\u001b[39;00m is_initialized():\n\u001b[1;32m--> 162\u001b[0m     \u001b[43mtorch\u001b[49m\u001b[38;5;241;43m.\u001b[39;49m\u001b[43m_C\u001b[49m\u001b[38;5;241;43m.\u001b[39;49m\u001b[43m_cuda_emptyCache\u001b[49m\u001b[43m(\u001b[49m\u001b[43m)\u001b[49m\n",
      "\u001b[1;31mRuntimeError\u001b[0m: CUDA error: out of memory\nCUDA kernel errors might be asynchronously reported at some other API call, so the stacktrace below might be incorrect.\nFor debugging consider passing CUDA_LAUNCH_BLOCKING=1.\nCompile with `TORCH_USE_CUDA_DSA` to enable device-side assertions.\n"
     ]
    }
   ],
   "source": [
    "early_stopping = EarlyStopping('val_loss', patience=100, verbose=True, mode='min')\n",
    "checkpoint_callback = ModelCheckpoint(\n",
    "    monitor='val_loss',  # Monitor validation loss\n",
    "    mode='min',          # 'min' mode means the checkpoint will be saved when the monitored quantity decreases\n",
    "    save_top_k=1,        # Save the best model\n",
    "    dirpath=current_date,  # Directory to save the checkpoints\n",
    "    filename='model',  # Filename format\n",
    ")\n",
    "trainer = Trainer(limit_train_batches=1.0, max_epochs=100000, callbacks=[early_stopping, checkpoint_callback], accelerator=\"gpu\", devices=\"auto\")\n",
    "trainer.fit(model=bt_model, train_dataloaders=train_dataloader, val_dataloaders=val_dataloader)"
   ]
  },
  {
   "cell_type": "code",
   "execution_count": null,
   "metadata": {},
   "outputs": [],
   "source": [
    "\n",
    "base_dir = 'data/UCIHAR/dataset/UCI HAR Dataset'\n",
    "# Training data\n",
    "# Train users\n",
    "train_users = pd.read_csv(f'{base_dir}/train/subject_train.txt', header=None)\n",
    "# Train accelerometer data\n",
    "train_acc_x = pd.read_csv(f'{base_dir}/train/Inertial Signals/body_acc_x_train.txt', delim_whitespace=True, header=None)\n",
    "train_acc_y = pd.read_csv(f'{base_dir}/train/Inertial Signals/body_acc_y_train.txt', delim_whitespace=True, header=None)\n",
    "train_acc_z = pd.read_csv(f'{base_dir}/train/Inertial Signals/body_acc_z_train.txt', delim_whitespace=True, header=None)\n",
    "# Train gyroscope data\n",
    "train_gyro_x = pd.read_csv(f'{base_dir}/train/Inertial Signals/body_gyro_x_train.txt', delim_whitespace=True, header=None)\n",
    "train_gyro_y = pd.read_csv(f'{base_dir}/train/Inertial Signals/body_gyro_y_train.txt', delim_whitespace=True, header=None)\n",
    "train_gyro_z = pd.read_csv(f'{base_dir}/train/Inertial Signals/body_gyro_z_train.txt', delim_whitespace=True, header=None)\n",
    "# Train total acc data\n",
    "train_total_acc_x = pd.read_csv(f'{base_dir}/train/Inertial Signals/total_acc_x_train.txt', delim_whitespace=True, header=None)\n",
    "train_total_acc_y = pd.read_csv(f'{base_dir}/train/Inertial Signals/total_acc_y_train.txt', delim_whitespace=True, header=None)\n",
    "train_total_acc_z = pd.read_csv(f'{base_dir}/train/Inertial Signals/total_acc_z_train.txt', delim_whitespace=True, header=None)\n",
    "\n",
    "# Train labels\n",
    "train_y = pd.read_csv(f'{base_dir}/train/y_train.txt', header=None)\n",
    "\n",
    "# Test data\n",
    "# Test users\n",
    "test_users = pd.read_csv(f'{base_dir}/test/subject_test.txt', header=None)\n",
    "# Test accelerometer data\n",
    "test_acc_x = pd.read_csv(f'{base_dir}/test/Inertial Signals/body_acc_x_test.txt', delim_whitespace=True, header=None)\n",
    "test_acc_y = pd.read_csv(f'{base_dir}/test/Inertial Signals/body_acc_y_test.txt', delim_whitespace=True, header=None)\n",
    "test_acc_z = pd.read_csv(f'{base_dir}/test/Inertial Signals/body_acc_z_test.txt', delim_whitespace=True, header=None)\n",
    "# Test gyroscope data\n",
    "test_gyro_x = pd.read_csv(f'{base_dir}/test/Inertial Signals/body_gyro_x_test.txt', delim_whitespace=True, header=None)\n",
    "test_gyro_y = pd.read_csv(f'{base_dir}/test/Inertial Signals/body_gyro_y_test.txt', delim_whitespace=True, header=None)\n",
    "test_gyro_z = pd.read_csv(f'{base_dir}/test/Inertial Signals/body_gyro_z_test.txt', delim_whitespace=True, header=None)\n",
    "# Test total acc data\n",
    "test_total_acc_x = pd.read_csv(f'{base_dir}/test/Inertial Signals/total_acc_x_test.txt', delim_whitespace=True, header=None)\n",
    "test_total_acc_y = pd.read_csv(f'{base_dir}/test/Inertial Signals/total_acc_y_test.txt', delim_whitespace=True, header=None)\n",
    "test_total_acc_z = pd.read_csv(f'{base_dir}/test/Inertial Signals/total_acc_z_test.txt', delim_whitespace=True, header=None)\n",
    "# Test labels\n",
    "test_y = pd.read_csv(f'{base_dir}/test/y_test.txt', header=None)"
   ]
  },
  {
   "cell_type": "code",
   "execution_count": null,
   "metadata": {},
   "outputs": [],
   "source": [
    "train_data = pd.concat([train_users, train_gyro_x, train_gyro_y, train_gyro_z, train_total_acc_x, train_total_acc_y, train_total_acc_z, train_acc_x, train_acc_y, train_acc_z], axis=1)\n",
    "test_data = pd.concat([test_users, test_gyro_x, test_gyro_y, test_gyro_z, test_total_acc_x, test_total_acc_y, test_total_acc_z, test_acc_x, test_acc_y, test_acc_z], axis=1)"
   ]
  },
  {
   "cell_type": "code",
   "execution_count": null,
   "metadata": {},
   "outputs": [
    {
     "data": {
      "text/plain": [
       "((7352, 1), (2947, 1), (7352, 1153), (2947, 1153))"
      ]
     },
     "execution_count": 4,
     "metadata": {},
     "output_type": "execute_result"
    }
   ],
   "source": [
    "train_users.shape, test_users.shape, train_data.shape, test_data.shape"
   ]
  },
  {
   "cell_type": "code",
   "execution_count": null,
   "metadata": {},
   "outputs": [
    {
     "data": {
      "text/plain": [
       "(9, 68)"
      ]
     },
     "execution_count": 5,
     "metadata": {},
     "output_type": "execute_result"
    }
   ],
   "source": [
    "first_elem = train_data.iloc[0,1:]\n",
    "first_elem = first_elem.values.reshape(9, -1)\n",
    "first_elem[:,:68].shape"
   ]
  },
  {
   "cell_type": "code",
   "execution_count": null,
   "metadata": {},
   "outputs": [
    {
     "name": "stdout",
     "output_type": "stream",
     "text": [
      "[ 1 27 25  3 15  8 19] [ 5  6  7 11 14 16 17 21 22 23 26 28 29 30]\n"
     ]
    }
   ],
   "source": [
    "users_for_train = np.random.choice(train_users.iloc[:,0].unique(), 7, replace=False)\n",
    "users_for_validation = np.setdiff1d(train_users.iloc[:,0].unique(), users_for_train)\n",
    "print(users_for_train, users_for_validation)"
   ]
  },
  {
   "cell_type": "code",
   "execution_count": null,
   "metadata": {},
   "outputs": [
    {
     "name": "stderr",
     "output_type": "stream",
     "text": [
      "C:\\Users\\dpalo\\AppData\\Local\\Temp\\ipykernel_26204\\3781707170.py:2: UserWarning: Boolean Series key will be reindexed to match DataFrame index.\n",
      "  validation_y = train_y[train_data.iloc[:,0].isin(users_for_validation)]\n"
     ]
    }
   ],
   "source": [
    "train_y = train_y[train_data.iloc[:,0].isin(users_for_train)]\n",
    "validation_y = train_y[train_data.iloc[:,0].isin(users_for_validation)]\n",
    "\n",
    "validation_data = train_data[train_data.iloc[:,0].isin(users_for_validation)].iloc[:,1:]\n",
    "train_data = train_data[train_data.iloc[:,0].isin(users_for_train)].iloc[:,1:]\n",
    "test_data = test_data.iloc[:,1:]"
   ]
  },
  {
   "cell_type": "code",
   "execution_count": null,
   "metadata": {},
   "outputs": [],
   "source": [
    "train_x = []\n",
    "for i in range(train_data.shape[0]):\n",
    "    signal = train_data.iloc[i,:].values.reshape(9, -1)\n",
    "    image = timeserie2image(signal)\n",
    "    image = np.array([image, image, image])\n",
    "    train_x.append(image)\n",
    "train_x = torch.tensor(np.array(train_x))\n",
    "\n",
    "validation_x = []\n",
    "for i in range(validation_data.shape[0]):\n",
    "    signal = validation_data.iloc[i,:].values.reshape(9, -1)\n",
    "    image = timeserie2image(signal)\n",
    "    image = np.array([image, image, image])\n",
    "    validation_x.append(image)\n",
    "validation_x = torch.tensor(np.array(validation_x))\n",
    "\n",
    "test_x = []\n",
    "for i in range(test_data.shape[0]):\n",
    "    signal = test_data.iloc[i,:].values.reshape(9, -1)\n",
    "    image = timeserie2image(signal)\n",
    "    image = np.array([image, image, image])\n",
    "    test_x.append(image)\n",
    "test_x = torch.tensor(np.array(test_x))"
   ]
  },
  {
   "cell_type": "code",
   "execution_count": null,
   "metadata": {},
   "outputs": [
    {
     "data": {
      "text/plain": [
       "(torch.Size([2442, 3, 36, 128]),\n",
       " torch.Size([4910, 3, 36, 128]),\n",
       " torch.Size([2947, 3, 36, 128]))"
      ]
     },
     "execution_count": 9,
     "metadata": {},
     "output_type": "execute_result"
    }
   ],
   "source": [
    "train_x.shape, validation_x.shape, test_x.shape"
   ]
  },
  {
   "cell_type": "code",
   "execution_count": null,
   "metadata": {},
   "outputs": [
    {
     "name": "stdout",
     "output_type": "stream",
     "text": [
      "SAMPLE SHAPE torch.Size([3, 36, 128])\n"
     ]
    }
   ],
   "source": [
    "train_dataset = UCIHARDataset(train_x, train_y, transform=Transform())\n",
    "val_dataset = UCIHARDataset(validation_x, validation_y, transform=Transform())\n",
    "test_dataset = UCIHARDataset(test_x, test_y, transform=Transform())\n",
    "nextval = next(iter(train_dataset))"
   ]
  },
  {
   "cell_type": "code",
   "execution_count": null,
   "metadata": {},
   "outputs": [
    {
     "data": {
      "text/plain": [
       "5"
      ]
     },
     "execution_count": 11,
     "metadata": {},
     "output_type": "execute_result"
    }
   ],
   "source": [
    "train_y.iloc[0,0]"
   ]
  },
  {
   "cell_type": "code",
   "execution_count": null,
   "metadata": {},
   "outputs": [
    {
     "data": {
      "text/plain": [
       "(torch.Size([3, 224, 224]), torch.Size([3, 224, 224]), 5)"
      ]
     },
     "execution_count": 12,
     "metadata": {},
     "output_type": "execute_result"
    }
   ],
   "source": [
    "nextval[0].shape, nextval[1].shape, nextval[2]"
   ]
  },
  {
   "cell_type": "code",
   "execution_count": null,
   "metadata": {},
   "outputs": [
    {
     "ename": "AssertionError",
     "evalue": "",
     "output_type": "error",
     "traceback": [
      "\u001b[1;31m---------------------------------------------------------------------------\u001b[0m",
      "\u001b[1;31mAssertionError\u001b[0m                            Traceback (most recent call last)",
      "Cell \u001b[1;32mIn[13], line 1\u001b[0m\n\u001b[1;32m----> 1\u001b[0m \u001b[38;5;28;01massert\u001b[39;00m \u001b[38;5;28;01mFalse\u001b[39;00m\n",
      "\u001b[1;31mAssertionError\u001b[0m: "
     ]
    }
   ],
   "source": [
    "assert False"
   ]
  },
  {
   "cell_type": "code",
   "execution_count": null,
   "metadata": {},
   "outputs": [
    {
     "name": "stdout",
     "output_type": "stream",
     "text": [
      "SAMPLE SHAPE torch.Size([3, 36, 128])\n",
      "torch.Size([3, 224, 224]) torch.Size([3, 224, 224]) 5\n",
      "SAMPLE SHAPE torch.Size([3, 36, 128])\n",
      "torch.Size([3, 224, 224]) torch.Size([3, 224, 224]) 5\n",
      "SAMPLE SHAPE torch.Size([3, 36, 128])\n",
      "torch.Size([3, 224, 224]) torch.Size([3, 224, 224]) 5\n",
      "SAMPLE SHAPE torch.Size([3, 36, 128])\n",
      "torch.Size([3, 224, 224]) torch.Size([3, 224, 224]) 5\n",
      "SAMPLE SHAPE torch.Size([3, 36, 128])\n",
      "torch.Size([3, 224, 224]) torch.Size([3, 224, 224]) 5\n",
      "SAMPLE SHAPE torch.Size([3, 36, 128])\n",
      "torch.Size([3, 224, 224]) torch.Size([3, 224, 224]) 5\n",
      "SAMPLE SHAPE torch.Size([3, 36, 128])\n",
      "torch.Size([3, 224, 224]) torch.Size([3, 224, 224]) 5\n",
      "SAMPLE SHAPE torch.Size([3, 36, 128])\n",
      "torch.Size([3, 224, 224]) torch.Size([3, 224, 224]) 5\n",
      "SAMPLE SHAPE torch.Size([3, 36, 128])\n",
      "torch.Size([3, 224, 224]) torch.Size([3, 224, 224]) 5\n",
      "SAMPLE SHAPE torch.Size([3, 36, 128])\n",
      "torch.Size([3, 224, 224]) torch.Size([3, 224, 224]) 5\n",
      "SAMPLE SHAPE torch.Size([3, 36, 128])\n",
      "torch.Size([3, 224, 224]) torch.Size([3, 224, 224]) 5\n",
      "SAMPLE SHAPE torch.Size([3, 36, 128])\n",
      "torch.Size([3, 224, 224]) torch.Size([3, 224, 224]) 5\n",
      "SAMPLE SHAPE torch.Size([3, 36, 128])\n",
      "torch.Size([3, 224, 224]) torch.Size([3, 224, 224]) 5\n",
      "SAMPLE SHAPE torch.Size([3, 36, 128])\n",
      "torch.Size([3, 224, 224]) torch.Size([3, 224, 224]) 5\n",
      "SAMPLE SHAPE torch.Size([3, 36, 128])\n",
      "torch.Size([3, 224, 224]) torch.Size([3, 224, 224]) 5\n",
      "SAMPLE SHAPE torch.Size([3, 36, 128])\n",
      "torch.Size([3, 224, 224]) torch.Size([3, 224, 224]) 5\n",
      "SAMPLE SHAPE torch.Size([3, 36, 128])\n",
      "torch.Size([3, 224, 224]) torch.Size([3, 224, 224]) 5\n",
      "SAMPLE SHAPE torch.Size([3, 36, 128])\n",
      "torch.Size([3, 224, 224]) torch.Size([3, 224, 224]) 5\n",
      "SAMPLE SHAPE torch.Size([3, 36, 128])\n",
      "torch.Size([3, 224, 224]) torch.Size([3, 224, 224]) 5\n",
      "SAMPLE SHAPE torch.Size([3, 36, 128])\n",
      "torch.Size([3, 224, 224]) torch.Size([3, 224, 224]) 5\n",
      "SAMPLE SHAPE torch.Size([3, 36, 128])\n",
      "torch.Size([3, 224, 224]) torch.Size([3, 224, 224]) 5\n",
      "SAMPLE SHAPE torch.Size([3, 36, 128])\n",
      "torch.Size([3, 224, 224]) torch.Size([3, 224, 224]) 5\n",
      "SAMPLE SHAPE torch.Size([3, 36, 128])\n",
      "torch.Size([3, 224, 224]) torch.Size([3, 224, 224]) 5\n",
      "SAMPLE SHAPE torch.Size([3, 36, 128])\n",
      "torch.Size([3, 224, 224]) torch.Size([3, 224, 224]) 5\n",
      "SAMPLE SHAPE torch.Size([3, 36, 128])\n",
      "torch.Size([3, 224, 224]) torch.Size([3, 224, 224]) 5\n",
      "SAMPLE SHAPE torch.Size([3, 36, 128])\n",
      "torch.Size([3, 224, 224]) torch.Size([3, 224, 224]) 5\n",
      "SAMPLE SHAPE torch.Size([3, 36, 128])\n",
      "torch.Size([3, 224, 224]) torch.Size([3, 224, 224]) 5\n",
      "SAMPLE SHAPE torch.Size([3, 36, 128])\n",
      "torch.Size([3, 224, 224]) torch.Size([3, 224, 224]) 4\n",
      "SAMPLE SHAPE torch.Size([3, 36, 128])\n",
      "torch.Size([3, 224, 224]) torch.Size([3, 224, 224]) 4\n",
      "SAMPLE SHAPE torch.Size([3, 36, 128])\n",
      "torch.Size([3, 224, 224]) torch.Size([3, 224, 224]) 4\n",
      "SAMPLE SHAPE torch.Size([3, 36, 128])\n",
      "torch.Size([3, 224, 224]) torch.Size([3, 224, 224]) 4\n",
      "SAMPLE SHAPE torch.Size([3, 36, 128])\n",
      "torch.Size([3, 224, 224]) torch.Size([3, 224, 224]) 4\n",
      "SAMPLE SHAPE torch.Size([3, 36, 128])\n",
      "torch.Size([3, 224, 224]) torch.Size([3, 224, 224]) 4\n",
      "SAMPLE SHAPE torch.Size([3, 36, 128])\n",
      "torch.Size([3, 224, 224]) torch.Size([3, 224, 224]) 4\n",
      "SAMPLE SHAPE torch.Size([3, 36, 128])\n",
      "torch.Size([3, 224, 224]) torch.Size([3, 224, 224]) 4\n",
      "SAMPLE SHAPE torch.Size([3, 36, 128])\n",
      "torch.Size([3, 224, 224]) torch.Size([3, 224, 224]) 4\n",
      "SAMPLE SHAPE torch.Size([3, 36, 128])\n",
      "torch.Size([3, 224, 224]) torch.Size([3, 224, 224]) 4\n",
      "SAMPLE SHAPE torch.Size([3, 36, 128])\n",
      "torch.Size([3, 224, 224]) torch.Size([3, 224, 224]) 4\n",
      "SAMPLE SHAPE torch.Size([3, 36, 128])\n",
      "torch.Size([3, 224, 224]) torch.Size([3, 224, 224]) 4\n",
      "SAMPLE SHAPE torch.Size([3, 36, 128])\n",
      "torch.Size([3, 224, 224]) torch.Size([3, 224, 224]) 4\n",
      "SAMPLE SHAPE torch.Size([3, 36, 128])\n",
      "torch.Size([3, 224, 224]) torch.Size([3, 224, 224]) 4\n",
      "SAMPLE SHAPE torch.Size([3, 36, 128])\n",
      "torch.Size([3, 224, 224]) torch.Size([3, 224, 224]) 4\n",
      "SAMPLE SHAPE torch.Size([3, 36, 128])\n",
      "torch.Size([3, 224, 224]) torch.Size([3, 224, 224]) 4\n",
      "SAMPLE SHAPE torch.Size([3, 36, 128])\n",
      "torch.Size([3, 224, 224]) torch.Size([3, 224, 224]) 4\n",
      "SAMPLE SHAPE torch.Size([3, 36, 128])\n",
      "torch.Size([3, 224, 224]) torch.Size([3, 224, 224]) 4\n",
      "SAMPLE SHAPE torch.Size([3, 36, 128])\n",
      "torch.Size([3, 224, 224]) torch.Size([3, 224, 224]) 4\n",
      "SAMPLE SHAPE torch.Size([3, 36, 128])\n",
      "torch.Size([3, 224, 224]) torch.Size([3, 224, 224]) 4\n",
      "SAMPLE SHAPE torch.Size([3, 36, 128])\n",
      "torch.Size([3, 224, 224]) torch.Size([3, 224, 224]) 4\n",
      "SAMPLE SHAPE torch.Size([3, 36, 128])\n",
      "torch.Size([3, 224, 224]) torch.Size([3, 224, 224]) 4\n",
      "SAMPLE SHAPE torch.Size([3, 36, 128])\n",
      "torch.Size([3, 224, 224]) torch.Size([3, 224, 224]) 4\n",
      "SAMPLE SHAPE torch.Size([3, 36, 128])\n",
      "torch.Size([3, 224, 224]) torch.Size([3, 224, 224]) 4\n",
      "SAMPLE SHAPE torch.Size([3, 36, 128])\n",
      "torch.Size([3, 224, 224]) torch.Size([3, 224, 224]) 6\n",
      "SAMPLE SHAPE torch.Size([3, 36, 128])\n",
      "torch.Size([3, 224, 224]) torch.Size([3, 224, 224]) 6\n",
      "SAMPLE SHAPE torch.Size([3, 36, 128])\n",
      "torch.Size([3, 224, 224]) torch.Size([3, 224, 224]) 6\n",
      "SAMPLE SHAPE torch.Size([3, 36, 128])\n",
      "torch.Size([3, 224, 224]) torch.Size([3, 224, 224]) 6\n",
      "SAMPLE SHAPE torch.Size([3, 36, 128])\n",
      "torch.Size([3, 224, 224]) torch.Size([3, 224, 224]) 6\n",
      "SAMPLE SHAPE torch.Size([3, 36, 128])\n",
      "torch.Size([3, 224, 224]) torch.Size([3, 224, 224]) 6\n",
      "SAMPLE SHAPE torch.Size([3, 36, 128])\n",
      "torch.Size([3, 224, 224]) torch.Size([3, 224, 224]) 6\n",
      "SAMPLE SHAPE torch.Size([3, 36, 128])\n",
      "torch.Size([3, 224, 224]) torch.Size([3, 224, 224]) 6\n",
      "SAMPLE SHAPE torch.Size([3, 36, 128])\n",
      "torch.Size([3, 224, 224]) torch.Size([3, 224, 224]) 6\n",
      "SAMPLE SHAPE torch.Size([3, 36, 128])\n",
      "torch.Size([3, 224, 224]) torch.Size([3, 224, 224]) 6\n",
      "SAMPLE SHAPE torch.Size([3, 36, 128])\n",
      "torch.Size([3, 224, 224]) torch.Size([3, 224, 224]) 6\n",
      "SAMPLE SHAPE torch.Size([3, 36, 128])\n",
      "torch.Size([3, 224, 224]) torch.Size([3, 224, 224]) 6\n",
      "SAMPLE SHAPE torch.Size([3, 36, 128])\n",
      "torch.Size([3, 224, 224]) torch.Size([3, 224, 224]) 6\n",
      "SAMPLE SHAPE torch.Size([3, 36, 128])\n",
      "torch.Size([3, 224, 224]) torch.Size([3, 224, 224]) 6\n",
      "SAMPLE SHAPE torch.Size([3, 36, 128])\n",
      "torch.Size([3, 224, 224]) torch.Size([3, 224, 224]) 6\n",
      "SAMPLE SHAPE torch.Size([3, 36, 128])\n",
      "torch.Size([3, 224, 224]) torch.Size([3, 224, 224]) 6\n",
      "SAMPLE SHAPE torch.Size([3, 36, 128])\n",
      "torch.Size([3, 224, 224]) torch.Size([3, 224, 224]) 6\n",
      "SAMPLE SHAPE torch.Size([3, 36, 128])\n",
      "torch.Size([3, 224, 224]) torch.Size([3, 224, 224]) 6\n",
      "SAMPLE SHAPE torch.Size([3, 36, 128])\n",
      "torch.Size([3, 224, 224]) torch.Size([3, 224, 224]) 6\n",
      "SAMPLE SHAPE torch.Size([3, 36, 128])\n",
      "torch.Size([3, 224, 224]) torch.Size([3, 224, 224]) 6\n",
      "SAMPLE SHAPE torch.Size([3, 36, 128])\n",
      "torch.Size([3, 224, 224]) torch.Size([3, 224, 224]) 6\n",
      "SAMPLE SHAPE torch.Size([3, 36, 128])\n",
      "torch.Size([3, 224, 224]) torch.Size([3, 224, 224]) 6\n",
      "SAMPLE SHAPE torch.Size([3, 36, 128])\n",
      "torch.Size([3, 224, 224]) torch.Size([3, 224, 224]) 6\n",
      "SAMPLE SHAPE torch.Size([3, 36, 128])\n",
      "torch.Size([3, 224, 224]) torch.Size([3, 224, 224]) 6\n",
      "SAMPLE SHAPE torch.Size([3, 36, 128])\n",
      "torch.Size([3, 224, 224]) torch.Size([3, 224, 224]) 6\n",
      "SAMPLE SHAPE torch.Size([3, 36, 128])\n",
      "torch.Size([3, 224, 224]) torch.Size([3, 224, 224]) 6\n",
      "SAMPLE SHAPE torch.Size([3, 36, 128])\n",
      "torch.Size([3, 224, 224]) torch.Size([3, 224, 224]) 6\n",
      "SAMPLE SHAPE torch.Size([3, 36, 128])\n",
      "torch.Size([3, 224, 224]) torch.Size([3, 224, 224]) 1\n",
      "SAMPLE SHAPE torch.Size([3, 36, 128])\n",
      "torch.Size([3, 224, 224]) torch.Size([3, 224, 224]) 1\n",
      "SAMPLE SHAPE torch.Size([3, 36, 128])\n",
      "torch.Size([3, 224, 224]) torch.Size([3, 224, 224]) 1\n",
      "SAMPLE SHAPE torch.Size([3, 36, 128])\n",
      "torch.Size([3, 224, 224]) torch.Size([3, 224, 224]) 1\n",
      "SAMPLE SHAPE torch.Size([3, 36, 128])\n",
      "torch.Size([3, 224, 224]) torch.Size([3, 224, 224]) 1\n",
      "SAMPLE SHAPE torch.Size([3, 36, 128])\n",
      "torch.Size([3, 224, 224]) torch.Size([3, 224, 224]) 1\n",
      "SAMPLE SHAPE torch.Size([3, 36, 128])\n",
      "torch.Size([3, 224, 224]) torch.Size([3, 224, 224]) 1\n",
      "SAMPLE SHAPE torch.Size([3, 36, 128])\n",
      "torch.Size([3, 224, 224]) torch.Size([3, 224, 224]) 1\n",
      "SAMPLE SHAPE torch.Size([3, 36, 128])\n",
      "torch.Size([3, 224, 224]) torch.Size([3, 224, 224]) 1\n",
      "SAMPLE SHAPE torch.Size([3, 36, 128])\n",
      "torch.Size([3, 224, 224]) torch.Size([3, 224, 224]) 1\n",
      "SAMPLE SHAPE torch.Size([3, 36, 128])\n",
      "torch.Size([3, 224, 224]) torch.Size([3, 224, 224]) 1\n",
      "SAMPLE SHAPE torch.Size([3, 36, 128])\n",
      "torch.Size([3, 224, 224]) torch.Size([3, 224, 224]) 1\n",
      "SAMPLE SHAPE torch.Size([3, 36, 128])\n",
      "torch.Size([3, 224, 224]) torch.Size([3, 224, 224]) 1\n",
      "SAMPLE SHAPE torch.Size([3, 36, 128])\n",
      "torch.Size([3, 224, 224]) torch.Size([3, 224, 224]) 1\n",
      "SAMPLE SHAPE torch.Size([3, 36, 128])\n",
      "torch.Size([3, 224, 224]) torch.Size([3, 224, 224]) 1\n",
      "SAMPLE SHAPE torch.Size([3, 36, 128])\n",
      "torch.Size([3, 224, 224]) torch.Size([3, 224, 224]) 1\n",
      "SAMPLE SHAPE torch.Size([3, 36, 128])\n",
      "torch.Size([3, 224, 224]) torch.Size([3, 224, 224]) 1\n",
      "SAMPLE SHAPE torch.Size([3, 36, 128])\n",
      "torch.Size([3, 224, 224]) torch.Size([3, 224, 224]) 1\n",
      "SAMPLE SHAPE torch.Size([3, 36, 128])\n",
      "torch.Size([3, 224, 224]) torch.Size([3, 224, 224]) 1\n",
      "SAMPLE SHAPE torch.Size([3, 36, 128])\n",
      "torch.Size([3, 224, 224]) torch.Size([3, 224, 224]) 1\n",
      "SAMPLE SHAPE torch.Size([3, 36, 128])\n",
      "torch.Size([3, 224, 224]) torch.Size([3, 224, 224]) 1\n",
      "SAMPLE SHAPE torch.Size([3, 36, 128])\n",
      "torch.Size([3, 224, 224]) torch.Size([3, 224, 224]) 1\n"
     ]
    }
   ],
   "source": [
    "iterd = iter(train_dataset)\n",
    "for i in range(100):\n",
    "    nextval = next(iterd)\n",
    "    print(nextval[0].shape, nextval[1].shape, nextval[2])"
   ]
  },
  {
   "cell_type": "code",
   "execution_count": null,
   "metadata": {},
   "outputs": [],
   "source": [
    "from torchvision.transforms import Compose, ToPILImage, ToTensor, Normalize\n",
    "# Transform tensor to 224x224\n",
    "transform = Compose([\n",
    "    ToPILImage(),\n",
    "    ToTensor(),\n",
    "    Normalize(mean=[0.5], std=[0.5])\n",
    "])\n",
    "\n",
    "# Resize to 224x224\n",
    "train_dataset.transform = transform\n",
    "\n"
   ]
  },
  {
   "cell_type": "code",
   "execution_count": null,
   "metadata": {},
   "outputs": [],
   "source": []
  },
  {
   "cell_type": "code",
   "execution_count": null,
   "metadata": {},
   "outputs": [
    {
     "name": "stdout",
     "output_type": "stream",
     "text": [
      "2433\n"
     ]
    },
    {
     "ename": "ValueError",
     "evalue": "cannot reshape array of size 1151 into shape (9,newaxis)",
     "output_type": "error",
     "traceback": [
      "\u001b[1;31m---------------------------------------------------------------------------\u001b[0m",
      "\u001b[1;31mValueError\u001b[0m                                Traceback (most recent call last)",
      "Cell \u001b[1;32mIn[14], line 18\u001b[0m\n\u001b[0;32m     16\u001b[0m \u001b[38;5;28mprint\u001b[39m(elem)\n\u001b[0;32m     17\u001b[0m data \u001b[38;5;241m=\u001b[39m train_data\u001b[38;5;241m.\u001b[39miloc[elem,\u001b[38;5;241m1\u001b[39m:]\n\u001b[1;32m---> 18\u001b[0m data \u001b[38;5;241m=\u001b[39m \u001b[43mdata\u001b[49m\u001b[38;5;241;43m.\u001b[39;49m\u001b[43mvalues\u001b[49m\u001b[38;5;241;43m.\u001b[39;49m\u001b[43mreshape\u001b[49m\u001b[43m(\u001b[49m\u001b[38;5;241;43m9\u001b[39;49m\u001b[43m,\u001b[49m\u001b[43m \u001b[49m\u001b[38;5;241;43m-\u001b[39;49m\u001b[38;5;241;43m1\u001b[39;49m\u001b[43m)\u001b[49m\n\u001b[0;32m     19\u001b[0m \u001b[38;5;28mprint\u001b[39m(y_val[train_y\u001b[38;5;241m.\u001b[39miloc[elem,\u001b[38;5;241m0\u001b[39m]])\n\u001b[0;32m     20\u001b[0m timeserie2image(data[:,:timestamps], \u001b[38;5;124mf\u001b[39m\u001b[38;5;124m'\u001b[39m\u001b[38;5;124mimages/\u001b[39m\u001b[38;5;132;01m{\u001b[39;00mtimestamps\u001b[38;5;132;01m}\u001b[39;00m\u001b[38;5;124m-\u001b[39m\u001b[38;5;132;01m{\u001b[39;00my_val[train_y\u001b[38;5;241m.\u001b[39miloc[elem,\u001b[38;5;241m0\u001b[39m]]\u001b[38;5;132;01m}\u001b[39;00m\u001b[38;5;124m-\u001b[39m\u001b[38;5;132;01m{\u001b[39;00melem\u001b[38;5;132;01m}\u001b[39;00m\u001b[38;5;124m.png\u001b[39m\u001b[38;5;124m'\u001b[39m)\n",
      "\u001b[1;31mValueError\u001b[0m: cannot reshape array of size 1151 into shape (9,newaxis)"
     ]
    }
   ],
   "source": [
    "import numpy as np\n",
    "import os\n",
    "\n",
    "y_val = {\n",
    "1: 'WALKING',\n",
    "2: 'WALKING_UPSTAIRS',\n",
    "3: 'WALKING_DOWNSTAIRS',\n",
    "4: 'SITTING',\n",
    "5: 'STANDING',\n",
    "6: 'LAYING'\n",
    "}\n",
    "timestamps = 128\n",
    "os.makedirs('images', exist_ok=True)\n",
    "random_elements = np.random.randint(0, train_data.shape[0], 10)\n",
    "for elem in random_elements:\n",
    "    print(elem)\n",
    "    data = train_data.iloc[elem,1:]\n",
    "    data = data.values.reshape(9, -1)\n",
    "    print(y_val[train_y.iloc[elem,0]])\n",
    "    timeserie2image(data[:,:timestamps], f'images/{timestamps}-{y_val[train_y.iloc[elem,0]]}-{elem}.png')"
   ]
  },
  {
   "cell_type": "code",
   "execution_count": null,
   "metadata": {},
   "outputs": [
    {
     "data": {
      "image/png": "[encoded data removed]",
      "text/plain": [
       "<Figure size 640x480 with 2 Axes>"
      ]
     },
     "metadata": {},
     "output_type": "display_data"
    },
    {
     "name": "stdout",
     "output_type": "stream",
     "text": [
      "(36, 68)\n"
     ]
    }
   ],
   "source": [
    "timeserie2image(first_elem[:,:68], 'test.png')"
   ]
  },
  {
   "cell_type": "code",
   "execution_count": null,
   "metadata": {},
   "outputs": [
    {
     "ename": "AssertionError",
     "evalue": "",
     "output_type": "error",
     "traceback": [
      "\u001b[1;31m---------------------------------------------------------------------------\u001b[0m",
      "\u001b[1;31mAssertionError\u001b[0m                            Traceback (most recent call last)",
      "Cell \u001b[1;32mIn[9], line 1\u001b[0m\n\u001b[1;32m----> 1\u001b[0m \u001b[38;5;28;01massert\u001b[39;00m \u001b[38;5;28;01mFalse\u001b[39;00m\n",
      "\u001b[1;31mAssertionError\u001b[0m: "
     ]
    }
   ],
   "source": [
    "assert False"
   ]
  },
  {
   "cell_type": "code",
   "execution_count": null,
   "metadata": {},
   "outputs": [
    {
     "name": "stdout",
     "output_type": "stream",
     "text": [
      "[ 1 27 25  3 15  8 19] [ 5  6  7 11 14 16 17 21 22 23 26 28 29 30]\n"
     ]
    }
   ],
   "source": [
    "\n"
   ]
  },
  {
   "cell_type": "code",
   "execution_count": null,
   "metadata": {},
   "outputs": [
    {
     "data": {
      "text/plain": [
       "Index(['1',   0,   1,   2,   3,   4,   5,   6,   7,   8,\n",
       "       ...\n",
       "       118, 119, 120, 121, 122, 123, 124, 125, 126, 127],\n",
       "      dtype='object', length=769)"
      ]
     },
     "execution_count": 46,
     "metadata": {},
     "output_type": "execute_result"
    }
   ],
   "source": [
    "train_data.columns"
   ]
  },
  {
   "cell_type": "code",
   "execution_count": null,
   "metadata": {},
   "outputs": [],
   "source": [
    "validation_data = train_data[train_data.iloc[:,0].isin(users_for_validation)]\n",
    "train_data = train_data[train_data.iloc[:,0].isin(users_for_train)]\n",
    "# Remove users from the data\n",
    "train_data = train_data.iloc[:,1:]\n",
    "validation_data = validation_data.iloc[:,1:]"
   ]
  },
  {
   "cell_type": "code",
   "execution_count": null,
   "metadata": {},
   "outputs": [],
   "source": [
    "# Filtering the labels\n",
    "train_y = train_y[train_y.iloc[:,0].isin(users_for_train)]\n",
    "validation_y = train_y[train_y.iloc[:,0].isin(users_for_validation)]"
   ]
  },
  {
   "cell_type": "code",
   "execution_count": null,
   "metadata": {},
   "outputs": [
    {
     "data": {
      "text/html": [
       "<div>\n",
       "<style scoped>\n",
       "    .dataframe tbody tr th:only-of-type {\n",
       "        vertical-align: middle;\n",
       "    }\n",
       "\n",
       "    .dataframe tbody tr th {\n",
       "        vertical-align: top;\n",
       "    }\n",
       "\n",
       "    .dataframe thead th {\n",
       "        text-align: right;\n",
       "    }\n",
       "</style>\n",
       "<table border=\"1\" class=\"dataframe\">\n",
       "  <thead>\n",
       "    <tr style=\"text-align: right;\">\n",
       "      <th></th>\n",
       "      <th>5</th>\n",
       "    </tr>\n",
       "  </thead>\n",
       "  <tbody>\n",
       "  </tbody>\n",
       "</table>\n",
       "</div>"
      ],
      "text/plain": [
       "Empty DataFrame\n",
       "Columns: [5]\n",
       "Index: []"
      ]
     },
     "execution_count": 52,
     "metadata": {},
     "output_type": "execute_result"
    }
   ],
   "source": [
    "validation_y"
   ]
  },
  {
   "cell_type": "code",
   "execution_count": null,
   "metadata": {},
   "outputs": [
    {
     "data": {
      "text/plain": [
       "((7351, 1), (7351, 128), (7351, 128), (7351, 1), (7351, 128))"
      ]
     },
     "execution_count": 16,
     "metadata": {},
     "output_type": "execute_result"
    }
   ],
   "source": [
    "users.shape, train_acc_x.shape, train_acc_y.shape, y_train.shape, train_total.shape"
   ]
  }
 ],
 "metadata": {
  "kernelspec": {
   "display_name": "Python 3",
   "language": "python",
   "name": "python3"
  },
  "language_info": {
   "codemirror_mode": {
    "name": "ipython",
    "version": 3
   },
   "file_extension": ".py",
   "mimetype": "text/x-python",
   "name": "python",
   "nbconvert_exporter": "python",
   "pygments_lexer": "ipython3",
   "version": "3.11.9"
  }
 },
 "nbformat": 4,
 "nbformat_minor": 2
}
